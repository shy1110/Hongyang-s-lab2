{
  "nbformat": 4,
  "nbformat_minor": 0,
  "metadata": {
    "colab": {
      "name": "Lab3.Affinity Analysis-Movie-Rec.ipynb",
      "provenance": [],
      "collapsed_sections": [],
      "include_colab_link": true
    },
    "kernelspec": {
      "name": "python3",
      "display_name": "Python 3"
    }
  },
  "cells": [
    {
      "cell_type": "markdown",
      "metadata": {
        "id": "view-in-github",
        "colab_type": "text"
      },
      "source": [
        "<a href=\"https://colab.research.google.com/github/shy1110/Hongyang-s-lab2/blob/master/Lab3_Affinity_Analysis_Movie_Rec.ipynb\" target=\"_parent\"><img src=\"https://colab.research.google.com/assets/colab-badge.svg\" alt=\"Open In Colab\"/></a>"
      ]
    },
    {
      "cell_type": "markdown",
      "metadata": {
        "id": "xmfHkqrDscF5"
      },
      "source": [
        "## Movielens Dataset"
      ]
    },
    {
      "cell_type": "code",
      "metadata": {
        "id": "sv646-m-fplU",
        "colab": {
          "base_uri": "https://localhost:8080/"
        },
        "outputId": "59555c9c-3a85-47d8-ae0f-9facfc49cd17"
      },
      "source": [
        "# data from http://grouplens.org/datasets/movielens/\n",
        "! wget https://cis331.guihang.org/data/u.data\n",
        "! wget https://cis331.guihang.org/data/u.item\n"
      ],
      "execution_count": null,
      "outputs": [
        {
          "output_type": "stream",
          "text": [
            "--2021-02-24 14:03:03--  https://cis331.guihang.org/data/u.data\n",
            "Resolving cis331.guihang.org (cis331.guihang.org)... 173.236.170.235\n",
            "Connecting to cis331.guihang.org (cis331.guihang.org)|173.236.170.235|:443... connected.\n",
            "HTTP request sent, awaiting response... 200 OK\n",
            "Length: 2079173 (2.0M)\n",
            "Saving to: ‘u.data’\n",
            "\n",
            "u.data              100%[===================>]   1.98M  13.0MB/s    in 0.2s    \n",
            "\n",
            "2021-02-24 14:03:03 (13.0 MB/s) - ‘u.data’ saved [2079173/2079173]\n",
            "\n",
            "--2021-02-24 14:03:03--  https://cis331.guihang.org/data/u.item\n",
            "Resolving cis331.guihang.org (cis331.guihang.org)... 173.236.170.235\n",
            "Connecting to cis331.guihang.org (cis331.guihang.org)|173.236.170.235|:443... connected.\n",
            "HTTP request sent, awaiting response... 200 OK\n",
            "Length: 238026 (232K)\n",
            "Saving to: ‘u.item’\n",
            "\n",
            "u.item              100%[===================>] 232.45K  --.-KB/s    in 0.08s   \n",
            "\n",
            "2021-02-24 14:03:03 (2.85 MB/s) - ‘u.item’ saved [238026/238026]\n",
            "\n"
          ],
          "name": "stdout"
        }
      ]
    },
    {
      "cell_type": "code",
      "metadata": {
        "colab": {
          "base_uri": "https://localhost:8080/"
        },
        "id": "8_cHuDlVnpym",
        "outputId": "20bf8ceb-0117-4907-def8-b7e86b786295"
      },
      "source": [
        "\n",
        "!ls -l u.*\n"
      ],
      "execution_count": null,
      "outputs": [
        {
          "output_type": "stream",
          "text": [
            "-rw-r--r-- 1 root root 2079173 Feb 21 15:51 u.data\n",
            "-rw-r--r-- 1 root root  238026 Feb 21 15:51 u.item\n"
          ],
          "name": "stdout"
        }
      ]
    },
    {
      "cell_type": "code",
      "metadata": {
        "colab": {
          "base_uri": "https://localhost:8080/"
        },
        "id": "cD3QMBntZ5cu",
        "outputId": "10b2e65e-647e-43d8-b2ef-291b81dff09e"
      },
      "source": [
        "!pwd"
      ],
      "execution_count": null,
      "outputs": [
        {
          "output_type": "stream",
          "text": [
            "/content\n"
          ],
          "name": "stdout"
        }
      ]
    },
    {
      "cell_type": "code",
      "metadata": {
        "id": "mUZ6ku2vfpld"
      },
      "source": [
        "import os\n",
        "ratings_filename = os.path.join('.', \"u.data\")"
      ],
      "execution_count": null,
      "outputs": []
    },
    {
      "cell_type": "code",
      "metadata": {
        "id": "aaXBwp-Cfplf"
      },
      "source": [
        "import pandas as pd"
      ],
      "execution_count": null,
      "outputs": []
    },
    {
      "cell_type": "code",
      "metadata": {
        "id": "zzy_YPnWfplf",
        "colab": {
          "base_uri": "https://localhost:8080/",
          "height": 195
        },
        "outputId": "f98658f5-565b-4524-e36e-59fda3ddf3cd"
      },
      "source": [
        "# u.data is a TSV with no column names/titles\n",
        "all_ratings = pd.read_csv(ratings_filename, delimiter=\"\\t\", header=None, names = [\"UserID\", \"MovieID\", \"Rating\", \"Datetime\"])\n",
        "all_ratings[\"Datetime\"] = pd.to_datetime(all_ratings['Datetime'],unit='s')\n",
        "all_ratings[:5]"
      ],
      "execution_count": null,
      "outputs": [
        {
          "output_type": "execute_result",
          "data": {
            "text/html": [
              "<div>\n",
              "<style scoped>\n",
              "    .dataframe tbody tr th:only-of-type {\n",
              "        vertical-align: middle;\n",
              "    }\n",
              "\n",
              "    .dataframe tbody tr th {\n",
              "        vertical-align: top;\n",
              "    }\n",
              "\n",
              "    .dataframe thead th {\n",
              "        text-align: right;\n",
              "    }\n",
              "</style>\n",
              "<table border=\"1\" class=\"dataframe\">\n",
              "  <thead>\n",
              "    <tr style=\"text-align: right;\">\n",
              "      <th></th>\n",
              "      <th>UserID</th>\n",
              "      <th>MovieID</th>\n",
              "      <th>Rating</th>\n",
              "      <th>Datetime</th>\n",
              "    </tr>\n",
              "  </thead>\n",
              "  <tbody>\n",
              "    <tr>\n",
              "      <th>0</th>\n",
              "      <td>196</td>\n",
              "      <td>242</td>\n",
              "      <td>3</td>\n",
              "      <td>1997-12-04 15:55:49</td>\n",
              "    </tr>\n",
              "    <tr>\n",
              "      <th>1</th>\n",
              "      <td>186</td>\n",
              "      <td>302</td>\n",
              "      <td>3</td>\n",
              "      <td>1998-04-04 19:22:22</td>\n",
              "    </tr>\n",
              "    <tr>\n",
              "      <th>2</th>\n",
              "      <td>22</td>\n",
              "      <td>377</td>\n",
              "      <td>1</td>\n",
              "      <td>1997-11-07 07:18:36</td>\n",
              "    </tr>\n",
              "    <tr>\n",
              "      <th>3</th>\n",
              "      <td>244</td>\n",
              "      <td>51</td>\n",
              "      <td>2</td>\n",
              "      <td>1997-11-27 05:02:03</td>\n",
              "    </tr>\n",
              "    <tr>\n",
              "      <th>4</th>\n",
              "      <td>166</td>\n",
              "      <td>346</td>\n",
              "      <td>1</td>\n",
              "      <td>1998-02-02 05:33:16</td>\n",
              "    </tr>\n",
              "  </tbody>\n",
              "</table>\n",
              "</div>"
            ],
            "text/plain": [
              "   UserID  MovieID  Rating            Datetime\n",
              "0     196      242       3 1997-12-04 15:55:49\n",
              "1     186      302       3 1998-04-04 19:22:22\n",
              "2      22      377       1 1997-11-07 07:18:36\n",
              "3     244       51       2 1997-11-27 05:02:03\n",
              "4     166      346       1 1998-02-02 05:33:16"
            ]
          },
          "metadata": {
            "tags": []
          },
          "execution_count": 6
        }
      ]
    },
    {
      "cell_type": "markdown",
      "metadata": {
        "id": "T0PdSkrEczYt"
      },
      "source": [
        "## Sparse data formats\n",
        "\n",
        "There are around 1,000 users and 1,700 movies in this dataset, which means that the full matrix would be quite large (nearly 2 million entries). For example, there is no review of movie number 675 for user number 213 though, and not for most other combinations of user and movie."
      ]
    },
    {
      "cell_type": "code",
      "metadata": {
        "id": "tU6fTsVPfpli",
        "colab": {
          "base_uri": "https://localhost:8080/",
          "height": 1000
        },
        "outputId": "b0e8297a-7cb3-4f73-c628-fdd12a5e4d5b"
      },
      "source": [
        "# As you can see, there are no review for most movies, such as #213\n",
        "all_ratings[all_ratings[\"UserID\"] == 675].sort_values(by=\"MovieID\")"
      ],
      "execution_count": null,
      "outputs": [
        {
          "output_type": "execute_result",
          "data": {
            "text/html": [
              "<div>\n",
              "<style scoped>\n",
              "    .dataframe tbody tr th:only-of-type {\n",
              "        vertical-align: middle;\n",
              "    }\n",
              "\n",
              "    .dataframe tbody tr th {\n",
              "        vertical-align: top;\n",
              "    }\n",
              "\n",
              "    .dataframe thead th {\n",
              "        text-align: right;\n",
              "    }\n",
              "</style>\n",
              "<table border=\"1\" class=\"dataframe\">\n",
              "  <thead>\n",
              "    <tr style=\"text-align: right;\">\n",
              "      <th></th>\n",
              "      <th>UserID</th>\n",
              "      <th>MovieID</th>\n",
              "      <th>Rating</th>\n",
              "      <th>Datetime</th>\n",
              "    </tr>\n",
              "  </thead>\n",
              "  <tbody>\n",
              "    <tr>\n",
              "      <th>81098</th>\n",
              "      <td>675</td>\n",
              "      <td>86</td>\n",
              "      <td>4</td>\n",
              "      <td>1998-03-10 00:26:14</td>\n",
              "    </tr>\n",
              "    <tr>\n",
              "      <th>90696</th>\n",
              "      <td>675</td>\n",
              "      <td>223</td>\n",
              "      <td>1</td>\n",
              "      <td>1998-03-10 00:35:51</td>\n",
              "    </tr>\n",
              "    <tr>\n",
              "      <th>92650</th>\n",
              "      <td>675</td>\n",
              "      <td>235</td>\n",
              "      <td>1</td>\n",
              "      <td>1998-03-10 00:35:51</td>\n",
              "    </tr>\n",
              "    <tr>\n",
              "      <th>95459</th>\n",
              "      <td>675</td>\n",
              "      <td>242</td>\n",
              "      <td>4</td>\n",
              "      <td>1998-03-10 00:08:42</td>\n",
              "    </tr>\n",
              "    <tr>\n",
              "      <th>82845</th>\n",
              "      <td>675</td>\n",
              "      <td>244</td>\n",
              "      <td>3</td>\n",
              "      <td>1998-03-10 00:29:35</td>\n",
              "    </tr>\n",
              "    <tr>\n",
              "      <th>53293</th>\n",
              "      <td>675</td>\n",
              "      <td>258</td>\n",
              "      <td>3</td>\n",
              "      <td>1998-03-10 00:11:19</td>\n",
              "    </tr>\n",
              "    <tr>\n",
              "      <th>97286</th>\n",
              "      <td>675</td>\n",
              "      <td>269</td>\n",
              "      <td>5</td>\n",
              "      <td>1998-03-10 00:08:07</td>\n",
              "    </tr>\n",
              "    <tr>\n",
              "      <th>93720</th>\n",
              "      <td>675</td>\n",
              "      <td>272</td>\n",
              "      <td>3</td>\n",
              "      <td>1998-03-10 00:07:11</td>\n",
              "    </tr>\n",
              "    <tr>\n",
              "      <th>73389</th>\n",
              "      <td>675</td>\n",
              "      <td>286</td>\n",
              "      <td>4</td>\n",
              "      <td>1998-03-10 00:07:11</td>\n",
              "    </tr>\n",
              "    <tr>\n",
              "      <th>77524</th>\n",
              "      <td>675</td>\n",
              "      <td>303</td>\n",
              "      <td>5</td>\n",
              "      <td>1998-03-10 00:08:42</td>\n",
              "    </tr>\n",
              "    <tr>\n",
              "      <th>47367</th>\n",
              "      <td>675</td>\n",
              "      <td>305</td>\n",
              "      <td>4</td>\n",
              "      <td>1998-03-10 00:09:08</td>\n",
              "    </tr>\n",
              "    <tr>\n",
              "      <th>44300</th>\n",
              "      <td>675</td>\n",
              "      <td>306</td>\n",
              "      <td>5</td>\n",
              "      <td>1998-03-10 00:08:07</td>\n",
              "    </tr>\n",
              "    <tr>\n",
              "      <th>53730</th>\n",
              "      <td>675</td>\n",
              "      <td>311</td>\n",
              "      <td>3</td>\n",
              "      <td>1998-03-10 00:10:47</td>\n",
              "    </tr>\n",
              "    <tr>\n",
              "      <th>54284</th>\n",
              "      <td>675</td>\n",
              "      <td>312</td>\n",
              "      <td>2</td>\n",
              "      <td>1998-03-10 00:10:24</td>\n",
              "    </tr>\n",
              "    <tr>\n",
              "      <th>63291</th>\n",
              "      <td>675</td>\n",
              "      <td>318</td>\n",
              "      <td>5</td>\n",
              "      <td>1998-03-10 00:21:13</td>\n",
              "    </tr>\n",
              "    <tr>\n",
              "      <th>87082</th>\n",
              "      <td>675</td>\n",
              "      <td>321</td>\n",
              "      <td>2</td>\n",
              "      <td>1998-03-10 00:11:48</td>\n",
              "    </tr>\n",
              "    <tr>\n",
              "      <th>56108</th>\n",
              "      <td>675</td>\n",
              "      <td>344</td>\n",
              "      <td>4</td>\n",
              "      <td>1998-03-10 00:12:34</td>\n",
              "    </tr>\n",
              "    <tr>\n",
              "      <th>53046</th>\n",
              "      <td>675</td>\n",
              "      <td>347</td>\n",
              "      <td>4</td>\n",
              "      <td>1998-03-10 00:07:11</td>\n",
              "    </tr>\n",
              "    <tr>\n",
              "      <th>94617</th>\n",
              "      <td>675</td>\n",
              "      <td>427</td>\n",
              "      <td>5</td>\n",
              "      <td>1998-03-10 00:28:11</td>\n",
              "    </tr>\n",
              "    <tr>\n",
              "      <th>69915</th>\n",
              "      <td>675</td>\n",
              "      <td>463</td>\n",
              "      <td>5</td>\n",
              "      <td>1998-03-10 00:16:43</td>\n",
              "    </tr>\n",
              "    <tr>\n",
              "      <th>46744</th>\n",
              "      <td>675</td>\n",
              "      <td>509</td>\n",
              "      <td>5</td>\n",
              "      <td>1998-03-10 00:24:25</td>\n",
              "    </tr>\n",
              "    <tr>\n",
              "      <th>46598</th>\n",
              "      <td>675</td>\n",
              "      <td>531</td>\n",
              "      <td>5</td>\n",
              "      <td>1998-03-10 00:18:28</td>\n",
              "    </tr>\n",
              "    <tr>\n",
              "      <th>52962</th>\n",
              "      <td>675</td>\n",
              "      <td>650</td>\n",
              "      <td>5</td>\n",
              "      <td>1998-03-10 00:32:51</td>\n",
              "    </tr>\n",
              "    <tr>\n",
              "      <th>94029</th>\n",
              "      <td>675</td>\n",
              "      <td>750</td>\n",
              "      <td>4</td>\n",
              "      <td>1998-03-10 00:08:07</td>\n",
              "    </tr>\n",
              "    <tr>\n",
              "      <th>53223</th>\n",
              "      <td>675</td>\n",
              "      <td>874</td>\n",
              "      <td>4</td>\n",
              "      <td>1998-03-10 00:11:19</td>\n",
              "    </tr>\n",
              "    <tr>\n",
              "      <th>62277</th>\n",
              "      <td>675</td>\n",
              "      <td>891</td>\n",
              "      <td>2</td>\n",
              "      <td>1998-03-10 00:12:59</td>\n",
              "    </tr>\n",
              "    <tr>\n",
              "      <th>77274</th>\n",
              "      <td>675</td>\n",
              "      <td>896</td>\n",
              "      <td>5</td>\n",
              "      <td>1998-03-10 00:09:35</td>\n",
              "    </tr>\n",
              "    <tr>\n",
              "      <th>66194</th>\n",
              "      <td>675</td>\n",
              "      <td>900</td>\n",
              "      <td>4</td>\n",
              "      <td>1998-03-10 00:10:24</td>\n",
              "    </tr>\n",
              "    <tr>\n",
              "      <th>54994</th>\n",
              "      <td>675</td>\n",
              "      <td>937</td>\n",
              "      <td>1</td>\n",
              "      <td>1998-03-10 00:35:51</td>\n",
              "    </tr>\n",
              "    <tr>\n",
              "      <th>61742</th>\n",
              "      <td>675</td>\n",
              "      <td>1007</td>\n",
              "      <td>4</td>\n",
              "      <td>1998-03-10 00:25:22</td>\n",
              "    </tr>\n",
              "    <tr>\n",
              "      <th>49225</th>\n",
              "      <td>675</td>\n",
              "      <td>1101</td>\n",
              "      <td>4</td>\n",
              "      <td>1998-03-10 00:33:49</td>\n",
              "    </tr>\n",
              "    <tr>\n",
              "      <th>50692</th>\n",
              "      <td>675</td>\n",
              "      <td>1255</td>\n",
              "      <td>1</td>\n",
              "      <td>1998-03-10 00:35:51</td>\n",
              "    </tr>\n",
              "    <tr>\n",
              "      <th>74202</th>\n",
              "      <td>675</td>\n",
              "      <td>1628</td>\n",
              "      <td>5</td>\n",
              "      <td>1998-03-10 00:30:37</td>\n",
              "    </tr>\n",
              "    <tr>\n",
              "      <th>47866</th>\n",
              "      <td>675</td>\n",
              "      <td>1653</td>\n",
              "      <td>5</td>\n",
              "      <td>1998-03-10 00:31:53</td>\n",
              "    </tr>\n",
              "  </tbody>\n",
              "</table>\n",
              "</div>"
            ],
            "text/plain": [
              "       UserID  MovieID  Rating            Datetime\n",
              "81098     675       86       4 1998-03-10 00:26:14\n",
              "90696     675      223       1 1998-03-10 00:35:51\n",
              "92650     675      235       1 1998-03-10 00:35:51\n",
              "95459     675      242       4 1998-03-10 00:08:42\n",
              "82845     675      244       3 1998-03-10 00:29:35\n",
              "53293     675      258       3 1998-03-10 00:11:19\n",
              "97286     675      269       5 1998-03-10 00:08:07\n",
              "93720     675      272       3 1998-03-10 00:07:11\n",
              "73389     675      286       4 1998-03-10 00:07:11\n",
              "77524     675      303       5 1998-03-10 00:08:42\n",
              "47367     675      305       4 1998-03-10 00:09:08\n",
              "44300     675      306       5 1998-03-10 00:08:07\n",
              "53730     675      311       3 1998-03-10 00:10:47\n",
              "54284     675      312       2 1998-03-10 00:10:24\n",
              "63291     675      318       5 1998-03-10 00:21:13\n",
              "87082     675      321       2 1998-03-10 00:11:48\n",
              "56108     675      344       4 1998-03-10 00:12:34\n",
              "53046     675      347       4 1998-03-10 00:07:11\n",
              "94617     675      427       5 1998-03-10 00:28:11\n",
              "69915     675      463       5 1998-03-10 00:16:43\n",
              "46744     675      509       5 1998-03-10 00:24:25\n",
              "46598     675      531       5 1998-03-10 00:18:28\n",
              "52962     675      650       5 1998-03-10 00:32:51\n",
              "94029     675      750       4 1998-03-10 00:08:07\n",
              "53223     675      874       4 1998-03-10 00:11:19\n",
              "62277     675      891       2 1998-03-10 00:12:59\n",
              "77274     675      896       5 1998-03-10 00:09:35\n",
              "66194     675      900       4 1998-03-10 00:10:24\n",
              "54994     675      937       1 1998-03-10 00:35:51\n",
              "61742     675     1007       4 1998-03-10 00:25:22\n",
              "49225     675     1101       4 1998-03-10 00:33:49\n",
              "50692     675     1255       1 1998-03-10 00:35:51\n",
              "74202     675     1628       5 1998-03-10 00:30:37\n",
              "47866     675     1653       5 1998-03-10 00:31:53"
            ]
          },
          "metadata": {
            "tags": []
          },
          "execution_count": 7
        }
      ]
    },
    {
      "cell_type": "markdown",
      "metadata": {
        "id": "9YuELdg4qd1r"
      },
      "source": [
        "## The goal \n",
        "\n",
        "To produce rules of the following form: if a person recommends _this set of movies_, they will also recommend _this movie_. "
      ]
    },
    {
      "cell_type": "code",
      "metadata": {
        "id": "J8V5UC-Dfplj",
        "colab": {
          "base_uri": "https://localhost:8080/",
          "height": 195
        },
        "outputId": "b187ca82-bf62-4041-d630-182523a7c93f"
      },
      "source": [
        "# Not all reviews are favourable! Our goal is \"other recommended movies\", so we only want favourable reviews\n",
        "all_ratings[\"Favorable\"] = all_ratings[\"Rating\"] > 3\n",
        "all_ratings[10:15]"
      ],
      "execution_count": null,
      "outputs": [
        {
          "output_type": "execute_result",
          "data": {
            "text/html": [
              "<div>\n",
              "<style scoped>\n",
              "    .dataframe tbody tr th:only-of-type {\n",
              "        vertical-align: middle;\n",
              "    }\n",
              "\n",
              "    .dataframe tbody tr th {\n",
              "        vertical-align: top;\n",
              "    }\n",
              "\n",
              "    .dataframe thead th {\n",
              "        text-align: right;\n",
              "    }\n",
              "</style>\n",
              "<table border=\"1\" class=\"dataframe\">\n",
              "  <thead>\n",
              "    <tr style=\"text-align: right;\">\n",
              "      <th></th>\n",
              "      <th>UserID</th>\n",
              "      <th>MovieID</th>\n",
              "      <th>Rating</th>\n",
              "      <th>Datetime</th>\n",
              "      <th>Favorable</th>\n",
              "    </tr>\n",
              "  </thead>\n",
              "  <tbody>\n",
              "    <tr>\n",
              "      <th>10</th>\n",
              "      <td>62</td>\n",
              "      <td>257</td>\n",
              "      <td>2</td>\n",
              "      <td>1997-11-12 22:07:14</td>\n",
              "      <td>False</td>\n",
              "    </tr>\n",
              "    <tr>\n",
              "      <th>11</th>\n",
              "      <td>286</td>\n",
              "      <td>1014</td>\n",
              "      <td>5</td>\n",
              "      <td>1997-11-17 15:38:45</td>\n",
              "      <td>True</td>\n",
              "    </tr>\n",
              "    <tr>\n",
              "      <th>12</th>\n",
              "      <td>200</td>\n",
              "      <td>222</td>\n",
              "      <td>5</td>\n",
              "      <td>1997-10-05 09:05:40</td>\n",
              "      <td>True</td>\n",
              "    </tr>\n",
              "    <tr>\n",
              "      <th>13</th>\n",
              "      <td>210</td>\n",
              "      <td>40</td>\n",
              "      <td>3</td>\n",
              "      <td>1998-03-27 21:59:54</td>\n",
              "      <td>False</td>\n",
              "    </tr>\n",
              "    <tr>\n",
              "      <th>14</th>\n",
              "      <td>224</td>\n",
              "      <td>29</td>\n",
              "      <td>3</td>\n",
              "      <td>1998-02-21 23:40:57</td>\n",
              "      <td>False</td>\n",
              "    </tr>\n",
              "  </tbody>\n",
              "</table>\n",
              "</div>"
            ],
            "text/plain": [
              "    UserID  MovieID  Rating            Datetime  Favorable\n",
              "10      62      257       2 1997-11-12 22:07:14      False\n",
              "11     286     1014       5 1997-11-17 15:38:45       True\n",
              "12     200      222       5 1997-10-05 09:05:40       True\n",
              "13     210       40       3 1998-03-27 21:59:54      False\n",
              "14     224       29       3 1998-02-21 23:40:57      False"
            ]
          },
          "metadata": {
            "tags": []
          },
          "execution_count": 8
        }
      ]
    },
    {
      "cell_type": "markdown",
      "metadata": {
        "id": "uX4O2Z8SrA3v"
      },
      "source": [
        "## One user's `taste`"
      ]
    },
    {
      "cell_type": "code",
      "metadata": {
        "id": "wJBcXs-Nfplj",
        "colab": {
          "base_uri": "https://localhost:8080/",
          "height": 195
        },
        "outputId": "9373b10a-0112-4a35-9b44-a219843a5c46"
      },
      "source": [
        "all_ratings[all_ratings[\"UserID\"] == 1][:5]"
      ],
      "execution_count": null,
      "outputs": [
        {
          "output_type": "execute_result",
          "data": {
            "text/html": [
              "<div>\n",
              "<style scoped>\n",
              "    .dataframe tbody tr th:only-of-type {\n",
              "        vertical-align: middle;\n",
              "    }\n",
              "\n",
              "    .dataframe tbody tr th {\n",
              "        vertical-align: top;\n",
              "    }\n",
              "\n",
              "    .dataframe thead th {\n",
              "        text-align: right;\n",
              "    }\n",
              "</style>\n",
              "<table border=\"1\" class=\"dataframe\">\n",
              "  <thead>\n",
              "    <tr style=\"text-align: right;\">\n",
              "      <th></th>\n",
              "      <th>UserID</th>\n",
              "      <th>MovieID</th>\n",
              "      <th>Rating</th>\n",
              "      <th>Datetime</th>\n",
              "      <th>Favorable</th>\n",
              "    </tr>\n",
              "  </thead>\n",
              "  <tbody>\n",
              "    <tr>\n",
              "      <th>202</th>\n",
              "      <td>1</td>\n",
              "      <td>61</td>\n",
              "      <td>4</td>\n",
              "      <td>1997-11-03 07:33:40</td>\n",
              "      <td>True</td>\n",
              "    </tr>\n",
              "    <tr>\n",
              "      <th>305</th>\n",
              "      <td>1</td>\n",
              "      <td>189</td>\n",
              "      <td>3</td>\n",
              "      <td>1998-03-01 06:15:28</td>\n",
              "      <td>False</td>\n",
              "    </tr>\n",
              "    <tr>\n",
              "      <th>333</th>\n",
              "      <td>1</td>\n",
              "      <td>33</td>\n",
              "      <td>4</td>\n",
              "      <td>1997-11-03 07:38:19</td>\n",
              "      <td>True</td>\n",
              "    </tr>\n",
              "    <tr>\n",
              "      <th>334</th>\n",
              "      <td>1</td>\n",
              "      <td>160</td>\n",
              "      <td>4</td>\n",
              "      <td>1997-09-24 03:42:27</td>\n",
              "      <td>True</td>\n",
              "    </tr>\n",
              "    <tr>\n",
              "      <th>478</th>\n",
              "      <td>1</td>\n",
              "      <td>20</td>\n",
              "      <td>4</td>\n",
              "      <td>1998-02-14 04:51:23</td>\n",
              "      <td>True</td>\n",
              "    </tr>\n",
              "  </tbody>\n",
              "</table>\n",
              "</div>"
            ],
            "text/plain": [
              "     UserID  MovieID  Rating            Datetime  Favorable\n",
              "202       1       61       4 1997-11-03 07:33:40       True\n",
              "305       1      189       3 1998-03-01 06:15:28      False\n",
              "333       1       33       4 1997-11-03 07:38:19       True\n",
              "334       1      160       4 1997-09-24 03:42:27       True\n",
              "478       1       20       4 1998-02-14 04:51:23       True"
            ]
          },
          "metadata": {
            "tags": []
          },
          "execution_count": 9
        }
      ]
    },
    {
      "cell_type": "markdown",
      "metadata": {
        "id": "UomNpzW_rXOI"
      },
      "source": [
        "## Sample our dataset to form training data. \n",
        "\n",
        "This also helps reduce the size of the dataset that will be searched, making the Apriori algorithm run faster. We obtain all reviews from the first 200 users:\n"
      ]
    },
    {
      "cell_type": "code",
      "metadata": {
        "id": "bqxsOan0fplk"
      },
      "source": [
        "# Sample the dataset. You can try increasing the size of the sample, but the run time will be considerably longer\n",
        "ratings = all_ratings[all_ratings['UserID'].isin(range(200))]  # & ratings[\"UserID\"].isin(range(100))]"
      ],
      "execution_count": null,
      "outputs": []
    },
    {
      "cell_type": "code",
      "metadata": {
        "id": "0TyKAfozfpll",
        "colab": {
          "base_uri": "https://localhost:8080/",
          "height": 195
        },
        "outputId": "248d5695-ccd8-43ab-9d98-ce2c2c90b62d"
      },
      "source": [
        "# We start by creating a dataset of each user's favourable reviews\n",
        "favorable_ratings = ratings[ratings[\"Favorable\"]]\n",
        "favorable_ratings[:5]"
      ],
      "execution_count": null,
      "outputs": [
        {
          "output_type": "execute_result",
          "data": {
            "text/html": [
              "<div>\n",
              "<style scoped>\n",
              "    .dataframe tbody tr th:only-of-type {\n",
              "        vertical-align: middle;\n",
              "    }\n",
              "\n",
              "    .dataframe tbody tr th {\n",
              "        vertical-align: top;\n",
              "    }\n",
              "\n",
              "    .dataframe thead th {\n",
              "        text-align: right;\n",
              "    }\n",
              "</style>\n",
              "<table border=\"1\" class=\"dataframe\">\n",
              "  <thead>\n",
              "    <tr style=\"text-align: right;\">\n",
              "      <th></th>\n",
              "      <th>UserID</th>\n",
              "      <th>MovieID</th>\n",
              "      <th>Rating</th>\n",
              "      <th>Datetime</th>\n",
              "      <th>Favorable</th>\n",
              "    </tr>\n",
              "  </thead>\n",
              "  <tbody>\n",
              "    <tr>\n",
              "      <th>16</th>\n",
              "      <td>122</td>\n",
              "      <td>387</td>\n",
              "      <td>5</td>\n",
              "      <td>1997-11-11 17:47:39</td>\n",
              "      <td>True</td>\n",
              "    </tr>\n",
              "    <tr>\n",
              "      <th>20</th>\n",
              "      <td>119</td>\n",
              "      <td>392</td>\n",
              "      <td>4</td>\n",
              "      <td>1998-01-30 16:13:34</td>\n",
              "      <td>True</td>\n",
              "    </tr>\n",
              "    <tr>\n",
              "      <th>21</th>\n",
              "      <td>167</td>\n",
              "      <td>486</td>\n",
              "      <td>4</td>\n",
              "      <td>1998-04-16 14:54:12</td>\n",
              "      <td>True</td>\n",
              "    </tr>\n",
              "    <tr>\n",
              "      <th>26</th>\n",
              "      <td>38</td>\n",
              "      <td>95</td>\n",
              "      <td>5</td>\n",
              "      <td>1998-04-13 01:14:54</td>\n",
              "      <td>True</td>\n",
              "    </tr>\n",
              "    <tr>\n",
              "      <th>28</th>\n",
              "      <td>63</td>\n",
              "      <td>277</td>\n",
              "      <td>4</td>\n",
              "      <td>1997-10-01 23:10:01</td>\n",
              "      <td>True</td>\n",
              "    </tr>\n",
              "  </tbody>\n",
              "</table>\n",
              "</div>"
            ],
            "text/plain": [
              "    UserID  MovieID  Rating            Datetime  Favorable\n",
              "16     122      387       5 1997-11-11 17:47:39       True\n",
              "20     119      392       4 1998-01-30 16:13:34       True\n",
              "21     167      486       4 1998-04-16 14:54:12       True\n",
              "26      38       95       5 1998-04-13 01:14:54       True\n",
              "28      63      277       4 1997-10-01 23:10:01       True"
            ]
          },
          "metadata": {
            "tags": []
          },
          "execution_count": 11
        }
      ]
    },
    {
      "cell_type": "markdown",
      "metadata": {
        "id": "cGO0h50ewvPB"
      },
      "source": [
        "## Get user: {reviews} as \"baskets\" "
      ]
    },
    {
      "cell_type": "code",
      "metadata": {
        "id": "iPuMr0jofpll",
        "colab": {
          "base_uri": "https://localhost:8080/"
        },
        "outputId": "6f4e2b62-75e8-4a49-b66a-f3dab29630f7"
      },
      "source": [
        "favorable_reviews_by_users = dict((k, frozenset(v.values)) \n",
        "      for k, v in favorable_ratings.groupby(\"UserID\")[\"MovieID\"])\n",
        "len(favorable_reviews_by_users) "
      ],
      "execution_count": null,
      "outputs": [
        {
          "output_type": "execute_result",
          "data": {
            "text/plain": [
              "199"
            ]
          },
          "metadata": {
            "tags": []
          },
          "execution_count": 12
        }
      ]
    },
    {
      "cell_type": "markdown",
      "metadata": {
        "id": "sHt27jai9JJZ"
      },
      "source": [
        "- **Understand `groupby` output as a tuple**"
      ]
    },
    {
      "cell_type": "code",
      "metadata": {
        "colab": {
          "base_uri": "https://localhost:8080/",
          "height": 136
        },
        "id": "IyyZbLlC9g9g",
        "outputId": "742e0259-f8f9-4740-d177-257211c0c8ee"
      },
      "source": [
        "df0 = pd.DataFrame({'a': [1, 1, 3],\n",
        "                   'b': [4.0, 5.5, 6.0],\n",
        "                   'c': ['7L', '8L', '9L'],\n",
        "                   'name': ['hello', 'hello', 'foo']})\n",
        "df0"
      ],
      "execution_count": null,
      "outputs": [
        {
          "output_type": "execute_result",
          "data": {
            "text/html": [
              "<div>\n",
              "<style scoped>\n",
              "    .dataframe tbody tr th:only-of-type {\n",
              "        vertical-align: middle;\n",
              "    }\n",
              "\n",
              "    .dataframe tbody tr th {\n",
              "        vertical-align: top;\n",
              "    }\n",
              "\n",
              "    .dataframe thead th {\n",
              "        text-align: right;\n",
              "    }\n",
              "</style>\n",
              "<table border=\"1\" class=\"dataframe\">\n",
              "  <thead>\n",
              "    <tr style=\"text-align: right;\">\n",
              "      <th></th>\n",
              "      <th>a</th>\n",
              "      <th>b</th>\n",
              "      <th>c</th>\n",
              "      <th>name</th>\n",
              "    </tr>\n",
              "  </thead>\n",
              "  <tbody>\n",
              "    <tr>\n",
              "      <th>0</th>\n",
              "      <td>1</td>\n",
              "      <td>4.0</td>\n",
              "      <td>7L</td>\n",
              "      <td>hello</td>\n",
              "    </tr>\n",
              "    <tr>\n",
              "      <th>1</th>\n",
              "      <td>1</td>\n",
              "      <td>5.5</td>\n",
              "      <td>8L</td>\n",
              "      <td>hello</td>\n",
              "    </tr>\n",
              "    <tr>\n",
              "      <th>2</th>\n",
              "      <td>3</td>\n",
              "      <td>6.0</td>\n",
              "      <td>9L</td>\n",
              "      <td>foo</td>\n",
              "    </tr>\n",
              "  </tbody>\n",
              "</table>\n",
              "</div>"
            ],
            "text/plain": [
              "   a    b   c   name\n",
              "0  1  4.0  7L  hello\n",
              "1  1  5.5  8L  hello\n",
              "2  3  6.0  9L    foo"
            ]
          },
          "metadata": {
            "tags": []
          },
          "execution_count": 13
        }
      ]
    },
    {
      "cell_type": "code",
      "metadata": {
        "id": "GUS8Cb-19nDQ",
        "colab": {
          "base_uri": "https://localhost:8080/",
          "height": 301
        },
        "outputId": "a3c7de25-799c-4eef-cc76-374bf0e04f65"
      },
      "source": [
        "for k, v in df0.groupby('a'):\n",
        "    print(\"k=\",k )\n",
        "    print(\"v=====>\\n\",  v.shape )\n",
        "    display(v)\n",
        "    print(\"++++++++++++++++++++++\")"
      ],
      "execution_count": null,
      "outputs": [
        {
          "output_type": "stream",
          "text": [
            "k= 1\n",
            "v=====>\n",
            " (2, 4)\n"
          ],
          "name": "stdout"
        },
        {
          "output_type": "display_data",
          "data": {
            "text/html": [
              "<div>\n",
              "<style scoped>\n",
              "    .dataframe tbody tr th:only-of-type {\n",
              "        vertical-align: middle;\n",
              "    }\n",
              "\n",
              "    .dataframe tbody tr th {\n",
              "        vertical-align: top;\n",
              "    }\n",
              "\n",
              "    .dataframe thead th {\n",
              "        text-align: right;\n",
              "    }\n",
              "</style>\n",
              "<table border=\"1\" class=\"dataframe\">\n",
              "  <thead>\n",
              "    <tr style=\"text-align: right;\">\n",
              "      <th></th>\n",
              "      <th>a</th>\n",
              "      <th>b</th>\n",
              "      <th>c</th>\n",
              "      <th>name</th>\n",
              "    </tr>\n",
              "  </thead>\n",
              "  <tbody>\n",
              "    <tr>\n",
              "      <th>0</th>\n",
              "      <td>1</td>\n",
              "      <td>4.0</td>\n",
              "      <td>7L</td>\n",
              "      <td>hello</td>\n",
              "    </tr>\n",
              "    <tr>\n",
              "      <th>1</th>\n",
              "      <td>1</td>\n",
              "      <td>5.5</td>\n",
              "      <td>8L</td>\n",
              "      <td>hello</td>\n",
              "    </tr>\n",
              "  </tbody>\n",
              "</table>\n",
              "</div>"
            ],
            "text/plain": [
              "   a    b   c   name\n",
              "0  1  4.0  7L  hello\n",
              "1  1  5.5  8L  hello"
            ]
          },
          "metadata": {
            "tags": []
          }
        },
        {
          "output_type": "stream",
          "text": [
            "++++++++++++++++++++++\n",
            "k= 3\n",
            "v=====>\n",
            " (1, 4)\n"
          ],
          "name": "stdout"
        },
        {
          "output_type": "display_data",
          "data": {
            "text/html": [
              "<div>\n",
              "<style scoped>\n",
              "    .dataframe tbody tr th:only-of-type {\n",
              "        vertical-align: middle;\n",
              "    }\n",
              "\n",
              "    .dataframe tbody tr th {\n",
              "        vertical-align: top;\n",
              "    }\n",
              "\n",
              "    .dataframe thead th {\n",
              "        text-align: right;\n",
              "    }\n",
              "</style>\n",
              "<table border=\"1\" class=\"dataframe\">\n",
              "  <thead>\n",
              "    <tr style=\"text-align: right;\">\n",
              "      <th></th>\n",
              "      <th>a</th>\n",
              "      <th>b</th>\n",
              "      <th>c</th>\n",
              "      <th>name</th>\n",
              "    </tr>\n",
              "  </thead>\n",
              "  <tbody>\n",
              "    <tr>\n",
              "      <th>2</th>\n",
              "      <td>3</td>\n",
              "      <td>6.0</td>\n",
              "      <td>9L</td>\n",
              "      <td>foo</td>\n",
              "    </tr>\n",
              "  </tbody>\n",
              "</table>\n",
              "</div>"
            ],
            "text/plain": [
              "   a    b   c name\n",
              "2  3  6.0  9L  foo"
            ]
          },
          "metadata": {
            "tags": []
          }
        },
        {
          "output_type": "stream",
          "text": [
            "++++++++++++++++++++++\n"
          ],
          "name": "stdout"
        }
      ]
    },
    {
      "cell_type": "code",
      "metadata": {
        "id": "ng3I2Hgf-Smf",
        "colab": {
          "base_uri": "https://localhost:8080/",
          "height": 235
        },
        "outputId": "4114ea0b-0ab9-4b6d-9272-b6c894ea49f0"
      },
      "source": [
        "for k, v in df0.groupby('a')[\"name\"]:\n",
        "    print(\"k=\",k )\n",
        "    print(\"v=====>\\n\",  v.shape )\n",
        "    display(v)\n",
        "    print(\"++++++++++++++++++++++\")"
      ],
      "execution_count": null,
      "outputs": [
        {
          "output_type": "stream",
          "text": [
            "k= 1\n",
            "v=====>\n",
            " (2,)\n"
          ],
          "name": "stdout"
        },
        {
          "output_type": "display_data",
          "data": {
            "text/plain": [
              "0    hello\n",
              "1    hello\n",
              "Name: name, dtype: object"
            ]
          },
          "metadata": {
            "tags": []
          }
        },
        {
          "output_type": "stream",
          "text": [
            "++++++++++++++++++++++\n",
            "k= 3\n",
            "v=====>\n",
            " (1,)\n"
          ],
          "name": "stdout"
        },
        {
          "output_type": "display_data",
          "data": {
            "text/plain": [
              "2    foo\n",
              "Name: name, dtype: object"
            ]
          },
          "metadata": {
            "tags": []
          }
        },
        {
          "output_type": "stream",
          "text": [
            "++++++++++++++++++++++\n"
          ],
          "name": "stdout"
        }
      ]
    },
    {
      "cell_type": "code",
      "metadata": {
        "colab": {
          "base_uri": "https://localhost:8080/"
        },
        "id": "PRRmos_d4WLL",
        "outputId": "7aa16eb8-3dc2-44b0-85db-1d52d3803ef0"
      },
      "source": [
        "c = 0\n",
        "for k, v in favorable_ratings.groupby(\"UserID\"):\n",
        "    print(\"k=\",k )\n",
        "    print(\"v=====>\\n\", v, v.shape )\n",
        "    print(f\"+++++++++++{c}+++++++++++\")\n",
        "    c += 1\n",
        "    if c>=3: break"
      ],
      "execution_count": null,
      "outputs": [
        {
          "output_type": "stream",
          "text": [
            "k= 1\n",
            "v=====>\n",
            "        UserID  MovieID  Rating            Datetime  Favorable\n",
            "202         1       61       4 1997-11-03 07:33:40       True\n",
            "333         1       33       4 1997-11-03 07:38:19       True\n",
            "334         1      160       4 1997-09-24 03:42:27       True\n",
            "478         1       20       4 1998-02-14 04:51:23       True\n",
            "639         1      202       5 1997-09-24 03:40:42       True\n",
            "...       ...      ...     ...                 ...        ...\n",
            "88893       1       88       4 1997-11-03 07:39:51       True\n",
            "89876       1       13       5 1997-09-24 03:30:05       True\n",
            "92049       1       28       4 1997-09-24 03:36:13       True\n",
            "92487       1      172       5 1997-09-22 21:57:58       True\n",
            "96699       1      152       5 1997-11-03 07:36:29       True\n",
            "\n",
            "[163 rows x 5 columns] (163, 5)\n",
            "+++++++++++0+++++++++++\n",
            "k= 2\n",
            "v=====>\n",
            "        UserID  MovieID  Rating            Datetime  Favorable\n",
            "700         2      292       4 1998-02-27 03:39:34       True\n",
            "924         2      251       5 1998-02-27 04:01:24       True\n",
            "1052        2       50       5 1998-02-27 04:01:24       True\n",
            "5063        2      297       4 1998-02-27 03:41:11       True\n",
            "7973        2       13       4 1998-02-27 03:58:42       True\n",
            "9201        2      303       4 1998-02-27 03:39:34       True\n",
            "11989       2      257       4 1998-02-27 03:44:22       True\n",
            "12150       2      316       5 1998-03-04 02:48:13       True\n",
            "16025       2      301       4 1998-02-27 03:37:11       True\n",
            "16198       2      313       5 1998-02-27 04:01:24       True\n",
            "16230       2      279       4 1998-02-27 03:55:45       True\n",
            "16596       2      299       4 1998-02-27 03:39:34       True\n",
            "20376       2      277       4 1998-02-27 03:46:14       True\n",
            "20534       2      282       4 1998-02-27 03:58:42       True\n",
            "21631       2      111       4 1998-02-27 03:57:33       True\n",
            "22582       2      295       4 1998-02-27 03:46:04       True\n",
            "24012       2      242       5 1998-02-27 04:01:24       True\n",
            "25216       2      283       5 1998-02-27 04:01:24       True\n",
            "25334       2      276       4 1998-02-27 03:52:32       True\n",
            "26184       2        1       4 1998-02-27 03:41:11       True\n",
            "28341       2       14       4 1998-02-27 03:57:33       True\n",
            "34025       2      293       4 1998-02-27 03:42:19       True\n",
            "35981       2      310       4 1998-03-04 02:37:41       True\n",
            "37026       2      306       4 1998-02-27 03:39:34       True\n",
            "37408       2       25       4 1998-02-27 03:54:08       True\n",
            "38564       2      273       4 1998-02-27 03:54:07       True\n",
            "42959       2      311       5 1998-02-27 04:01:24       True\n",
            "43447       2      269       4 1998-02-27 03:39:34       True\n",
            "43627       2      255       4 1998-02-27 03:49:01       True\n",
            "46011       2      284       4 1998-02-27 04:00:17       True\n",
            "52964       2      237       4 1998-02-27 04:00:17       True\n",
            "54744       2      300       4 1998-03-04 02:39:57       True\n",
            "55790       2      100       5 1998-02-27 04:01:24       True\n",
            "59514       2      127       5 1998-02-27 04:01:24       True\n",
            "59823       2      285       5 1998-02-27 04:01:24       True\n",
            "73282       2      304       4 1998-03-04 02:39:57       True\n",
            "76004       2      272       5 1998-03-04 02:37:41       True\n",
            "85606       2      286       4 1998-02-27 03:26:00       True\n",
            "88190       2      275       5 1998-02-27 03:42:19       True\n",
            "95677       2      302       5 1998-02-27 04:01:24       True (40, 5)\n",
            "+++++++++++1+++++++++++\n",
            "k= 3\n",
            "v=====>\n",
            "        UserID  MovieID  Rating            Datetime  Favorable\n",
            "3840        3      331       4 1998-03-07 02:24:15       True\n",
            "6178        3      328       5 1998-03-07 02:24:15       True\n",
            "9021        3      318       4 1998-03-07 02:24:42       True\n",
            "11227       3      348       4 1998-03-07 02:24:15       True\n",
            "14381       3      327       4 1998-03-07 02:24:15       True\n",
            "24412       3      321       5 1998-03-07 02:24:15       True\n",
            "24716       3      260       4 1998-03-07 02:24:15       True\n",
            "29583       3      320       5 1998-03-07 02:24:42       True\n",
            "33981       3      342       4 1998-03-07 02:19:34       True\n",
            "35195       3      329       4 1998-03-07 02:24:15       True\n",
            "37188       3      181       4 1998-03-07 02:24:42       True\n",
            "48447       3      344       4 1998-03-07 02:15:39       True\n",
            "65959       3      347       5 1998-03-07 02:24:15       True\n",
            "92178       3      340       5 1998-03-07 02:24:15       True\n",
            "96761       3      346       5 1998-03-07 02:24:15       True (15, 5)\n",
            "+++++++++++2+++++++++++\n"
          ],
          "name": "stdout"
        }
      ]
    },
    {
      "cell_type": "code",
      "metadata": {
        "id": "YrHOh5xh3VIi"
      },
      "source": [
        "?frozenset\n"
      ],
      "execution_count": null,
      "outputs": []
    },
    {
      "cell_type": "code",
      "metadata": {
        "id": "s4EOSAx_fplm",
        "colab": {
          "base_uri": "https://localhost:8080/",
          "height": 225
        },
        "outputId": "24e5c9ff-413f-4358-8031-410c2e24f567"
      },
      "source": [
        "# Find out how many movies have favourable ratings\n",
        "num_favorable_by_movie = ratings[[\"MovieID\", \"Favorable\"]].groupby(\"MovieID\").sum()\n",
        "num_favorable_by_movie.sort_values(by=\"Favorable\", ascending=False).head()"
      ],
      "execution_count": null,
      "outputs": [
        {
          "output_type": "execute_result",
          "data": {
            "text/html": [
              "<div>\n",
              "<style scoped>\n",
              "    .dataframe tbody tr th:only-of-type {\n",
              "        vertical-align: middle;\n",
              "    }\n",
              "\n",
              "    .dataframe tbody tr th {\n",
              "        vertical-align: top;\n",
              "    }\n",
              "\n",
              "    .dataframe thead th {\n",
              "        text-align: right;\n",
              "    }\n",
              "</style>\n",
              "<table border=\"1\" class=\"dataframe\">\n",
              "  <thead>\n",
              "    <tr style=\"text-align: right;\">\n",
              "      <th></th>\n",
              "      <th>Favorable</th>\n",
              "    </tr>\n",
              "    <tr>\n",
              "      <th>MovieID</th>\n",
              "      <th></th>\n",
              "    </tr>\n",
              "  </thead>\n",
              "  <tbody>\n",
              "    <tr>\n",
              "      <th>50</th>\n",
              "      <td>100</td>\n",
              "    </tr>\n",
              "    <tr>\n",
              "      <th>100</th>\n",
              "      <td>89</td>\n",
              "    </tr>\n",
              "    <tr>\n",
              "      <th>258</th>\n",
              "      <td>83</td>\n",
              "    </tr>\n",
              "    <tr>\n",
              "      <th>181</th>\n",
              "      <td>79</td>\n",
              "    </tr>\n",
              "    <tr>\n",
              "      <th>174</th>\n",
              "      <td>74</td>\n",
              "    </tr>\n",
              "  </tbody>\n",
              "</table>\n",
              "</div>"
            ],
            "text/plain": [
              "         Favorable\n",
              "MovieID           \n",
              "50             100\n",
              "100             89\n",
              "258             83\n",
              "181             79\n",
              "174             74"
            ]
          },
          "metadata": {
            "tags": []
          },
          "execution_count": 18
        }
      ]
    },
    {
      "cell_type": "markdown",
      "metadata": {
        "id": "cMCjvbNeK3lI"
      },
      "source": [
        "### Note on defaultdict(int)"
      ]
    },
    {
      "cell_type": "code",
      "metadata": {
        "colab": {
          "base_uri": "https://localhost:8080/"
        },
        "id": "juV5MSeCK6XB",
        "outputId": "3e840f28-3707-4869-a3af-7bdd90d987f9"
      },
      "source": [
        "from collections import defaultdict\n",
        "\n",
        "C = defaultdict(int)\n",
        "C"
      ],
      "execution_count": null,
      "outputs": [
        {
          "output_type": "execute_result",
          "data": {
            "text/plain": [
              "defaultdict(int, {})"
            ]
          },
          "metadata": {
            "tags": []
          },
          "execution_count": 19
        }
      ]
    },
    {
      "cell_type": "code",
      "metadata": {
        "colab": {
          "base_uri": "https://localhost:8080/"
        },
        "id": "8AH6eDtAK-Je",
        "outputId": "b35309e3-9056-40c2-c52d-909d25b991c2"
      },
      "source": [
        "C[\"this\"] += 1\n",
        "C"
      ],
      "execution_count": null,
      "outputs": [
        {
          "output_type": "execute_result",
          "data": {
            "text/plain": [
              "defaultdict(int, {'this': 1})"
            ]
          },
          "metadata": {
            "tags": []
          },
          "execution_count": 20
        }
      ]
    },
    {
      "cell_type": "markdown",
      "metadata": {
        "id": "EP_NNWCvLEP_"
      },
      "source": [
        "### Function to expand frequent k-itemsets based upon frequent (k-1)-itemsets"
      ]
    },
    {
      "cell_type": "markdown",
      "metadata": {
        "id": "qqJ3Menf-KOX"
      },
      "source": [
        "#### <font color=red>Buggy version</font>"
      ]
    },
    {
      "cell_type": "code",
      "metadata": {
        "id": "-wwsCjnKfplm"
      },
      "source": [
        "\n",
        "\n",
        "#E = frozenset({64, 1, 98, 7, 172, 174, 79, 50, 181, 56})\n",
        "def find_frequent_itemsets(favorable_reviews_by_users, k_minus_1_itemsets, min_support):\n",
        "    counts = defaultdict(int)\n",
        "    #myc = 0\n",
        "    for user, reviews in favorable_reviews_by_users.items():\n",
        "        \n",
        "        for itemset in k_minus_1_itemsets: # iterate over keys\n",
        "            #tt = len(itemset)==2 \n",
        "            if itemset.issubset(reviews): # e.g. itemset = {10, 23} ; reviews = {10, 23, 33, 55}\n",
        "                for other_reviewed_movie in ( reviews - itemset ): # other_reviewed_movie in {33 , 55}\n",
        "                    current_superset = itemset | frozenset((other_reviewed_movie,)) \n",
        "                    # current_superset = {10, 23, 33} or {10, 23, 55}\n",
        "                    counts[current_superset] += 1 # use itemset as key\n",
        "                    '''if tt and (current_superset == current_superset):\n",
        "                        if user==1:\n",
        "                            myc += 1\n",
        "                            print(myc, itemset, \" + \", other_reviewed_movie, current_superset, counts[current_superset], f\"user={user}\"  )\n",
        "                    '''\n",
        "    return dict([(itemset, frequency) for itemset, frequency in counts.items() if frequency >= min_support])"
      ],
      "execution_count": null,
      "outputs": []
    },
    {
      "cell_type": "markdown",
      "metadata": {
        "id": "95rL2otO-Sm3"
      },
      "source": [
        "#### Fixed version"
      ]
    },
    {
      "cell_type": "code",
      "metadata": {
        "id": "OUBhqESEgZmK"
      },
      "source": [
        "\n",
        "def find_frequent_itemsets(favorable_reviews_by_users, k_minus_1_itemsets, min_support):\n",
        "    counts = defaultdict(int)\n",
        "    myc = 0\n",
        "    \n",
        "    for user, reviews in favorable_reviews_by_users.items():\n",
        "        counted = defaultdict(bool) # set flag to be false by default, this is reset in every iteration over users\n",
        "        for itemset in k_minus_1_itemsets: # iterate over keys in k_minus_1_itemsets, which are itemsets\n",
        "\n",
        "            if itemset.issubset(reviews): # e.g. itemset = {10, 23} ; reviews = {10, 23, 33, 55}\n",
        "                for other_reviewed_movie in ( reviews - itemset ): # other_reviewed_movie in {33 , 55}\n",
        "                    current_superset = itemset | frozenset((other_reviewed_movie,)) \n",
        "                    if counted[current_superset]: continue\n",
        "                    counted[current_superset] = True\n",
        "                    # current_superset = {10, 23, 33} or {10, 23, 55}\n",
        "                    counts[current_superset] += 1 # use itemset as key \n",
        "    return dict([(itemset, frequency) \n",
        "        for itemset, frequency in counts.items() if frequency >= min_support])\n",
        "\n"
      ],
      "execution_count": null,
      "outputs": []
    },
    {
      "cell_type": "markdown",
      "metadata": {
        "id": "_ksJL_AmFjGl"
      },
      "source": [
        "## Freq 1-item set"
      ]
    },
    {
      "cell_type": "code",
      "metadata": {
        "colab": {
          "base_uri": "https://localhost:8080/",
          "height": 225
        },
        "id": "rG7V4BUwFqCO",
        "outputId": "4dca357e-5d8b-465a-f200-b71a52c4078d"
      },
      "source": [
        "num_favorable_by_movie.head()"
      ],
      "execution_count": null,
      "outputs": [
        {
          "output_type": "execute_result",
          "data": {
            "text/html": [
              "<div>\n",
              "<style scoped>\n",
              "    .dataframe tbody tr th:only-of-type {\n",
              "        vertical-align: middle;\n",
              "    }\n",
              "\n",
              "    .dataframe tbody tr th {\n",
              "        vertical-align: top;\n",
              "    }\n",
              "\n",
              "    .dataframe thead th {\n",
              "        text-align: right;\n",
              "    }\n",
              "</style>\n",
              "<table border=\"1\" class=\"dataframe\">\n",
              "  <thead>\n",
              "    <tr style=\"text-align: right;\">\n",
              "      <th></th>\n",
              "      <th>Favorable</th>\n",
              "    </tr>\n",
              "    <tr>\n",
              "      <th>MovieID</th>\n",
              "      <th></th>\n",
              "    </tr>\n",
              "  </thead>\n",
              "  <tbody>\n",
              "    <tr>\n",
              "      <th>1</th>\n",
              "      <td>66</td>\n",
              "    </tr>\n",
              "    <tr>\n",
              "      <th>2</th>\n",
              "      <td>5</td>\n",
              "    </tr>\n",
              "    <tr>\n",
              "      <th>3</th>\n",
              "      <td>4</td>\n",
              "    </tr>\n",
              "    <tr>\n",
              "      <th>4</th>\n",
              "      <td>21</td>\n",
              "    </tr>\n",
              "    <tr>\n",
              "      <th>5</th>\n",
              "      <td>6</td>\n",
              "    </tr>\n",
              "  </tbody>\n",
              "</table>\n",
              "</div>"
            ],
            "text/plain": [
              "         Favorable\n",
              "MovieID           \n",
              "1               66\n",
              "2                5\n",
              "3                4\n",
              "4               21\n",
              "5                6"
            ]
          },
          "metadata": {
            "tags": []
          },
          "execution_count": 23
        }
      ]
    },
    {
      "cell_type": "code",
      "metadata": {
        "colab": {
          "base_uri": "https://localhost:8080/"
        },
        "id": "UTWbFxRLGgNv",
        "outputId": "f8096ad6-90c1-46a7-d972-17a2e7ea020a"
      },
      "source": [
        "num_favorable_by_movie.columns, num_favorable_by_movie.head().index"
      ],
      "execution_count": null,
      "outputs": [
        {
          "output_type": "execute_result",
          "data": {
            "text/plain": [
              "(Index(['Favorable'], dtype='object'),\n",
              " Int64Index([1, 2, 3, 4, 5], dtype='int64', name='MovieID'))"
            ]
          },
          "metadata": {
            "tags": []
          },
          "execution_count": 24
        }
      ]
    },
    {
      "cell_type": "code",
      "metadata": {
        "colab": {
          "base_uri": "https://localhost:8080/",
          "height": 195
        },
        "id": "B5bW-k2TG1pM",
        "outputId": "6ec03e7e-a633-4a73-9bdb-24cea38f8a64"
      },
      "source": [
        "num_favorable_by_movie.head().reset_index()"
      ],
      "execution_count": null,
      "outputs": [
        {
          "output_type": "execute_result",
          "data": {
            "text/html": [
              "<div>\n",
              "<style scoped>\n",
              "    .dataframe tbody tr th:only-of-type {\n",
              "        vertical-align: middle;\n",
              "    }\n",
              "\n",
              "    .dataframe tbody tr th {\n",
              "        vertical-align: top;\n",
              "    }\n",
              "\n",
              "    .dataframe thead th {\n",
              "        text-align: right;\n",
              "    }\n",
              "</style>\n",
              "<table border=\"1\" class=\"dataframe\">\n",
              "  <thead>\n",
              "    <tr style=\"text-align: right;\">\n",
              "      <th></th>\n",
              "      <th>MovieID</th>\n",
              "      <th>Favorable</th>\n",
              "    </tr>\n",
              "  </thead>\n",
              "  <tbody>\n",
              "    <tr>\n",
              "      <th>0</th>\n",
              "      <td>1</td>\n",
              "      <td>66</td>\n",
              "    </tr>\n",
              "    <tr>\n",
              "      <th>1</th>\n",
              "      <td>2</td>\n",
              "      <td>5</td>\n",
              "    </tr>\n",
              "    <tr>\n",
              "      <th>2</th>\n",
              "      <td>3</td>\n",
              "      <td>4</td>\n",
              "    </tr>\n",
              "    <tr>\n",
              "      <th>3</th>\n",
              "      <td>4</td>\n",
              "      <td>21</td>\n",
              "    </tr>\n",
              "    <tr>\n",
              "      <th>4</th>\n",
              "      <td>5</td>\n",
              "      <td>6</td>\n",
              "    </tr>\n",
              "  </tbody>\n",
              "</table>\n",
              "</div>"
            ],
            "text/plain": [
              "   MovieID  Favorable\n",
              "0        1         66\n",
              "1        2          5\n",
              "2        3          4\n",
              "3        4         21\n",
              "4        5          6"
            ]
          },
          "metadata": {
            "tags": []
          },
          "execution_count": 25
        }
      ]
    },
    {
      "cell_type": "code",
      "metadata": {
        "id": "7UHrh2zFF39O"
      },
      "source": [
        "? num_favorable_by_movie.iterrows"
      ],
      "execution_count": null,
      "outputs": []
    },
    {
      "cell_type": "code",
      "metadata": {
        "colab": {
          "base_uri": "https://localhost:8080/"
        },
        "id": "AYMZbeIsFhe2",
        "outputId": "8aea8deb-4f59-40f6-e287-b48d44f4aec8"
      },
      "source": [
        "\n",
        "frequent_itemsets = {}  # itemsets are sorted by length\n",
        "min_support = 20\n",
        "\n",
        "# k=1 candidates are the movies with more than min_support favourable reviews\n",
        "frequent_itemsets[1] = dict((frozenset((movie_id,)), row[\"Favorable\"])\n",
        "                                for movie_id, row in num_favorable_by_movie.iterrows()\n",
        "                                if row[\"Favorable\"] > min_support)\n",
        "print(\"There are {} movies with more than {} favorable reviews\".format(len(frequent_itemsets[1]), min_support))"
      ],
      "execution_count": null,
      "outputs": [
        {
          "output_type": "stream",
          "text": [
            "There are 162 movies with more than 20 favorable reviews\n"
          ],
          "name": "stdout"
        }
      ]
    },
    {
      "cell_type": "markdown",
      "metadata": {
        "id": "r1YuOneGWcmg"
      },
      "source": [
        "### Frequent k-itemsets\n",
        "\n",
        "- #### <font color=\"red\">`frequent_itemsets` is a **dictionary of dictionary**</font>\n",
        "    - dictionary key is k (length of itemsets)\n",
        "    - dictionary value is another dictionary which has key-value pairs like:\n",
        "        - `frozenset({234, 456}) : 21`\n",
        "        - where 234 and 456 are MovieID, 21 is the total count of users who rated this set as positive."
      ]
    },
    {
      "cell_type": "code",
      "metadata": {
        "id": "s7pTGP-zfpln",
        "colab": {
          "base_uri": "https://localhost:8080/"
        },
        "outputId": "854d8f6b-57a8-4b34-edeb-5b4adb327062"
      },
      "source": [
        "\n",
        "from collections import defaultdict\n",
        "\n",
        "# Recall that favorable_reviews_by_users is a dictionary with \n",
        "# user: {reviews} \n",
        "import sys\n",
        "\n",
        "sys.stdout.flush() # Ensure printout still happens while programing running\n",
        "for k in range(2, 20):\n",
        "    # Generate candidates of length k, using the frequent itemsets of length k-1\n",
        "    # Only store the frequent itemsets\n",
        "    cur_frequent_itemsets = find_frequent_itemsets(favorable_reviews_by_users, \n",
        "                                                   frequent_itemsets[k-1],\n",
        "                                                   min_support)\n",
        "    if len(cur_frequent_itemsets) == 0:\n",
        "        print(\"Did not find any frequent itemsets of length {}\".format(k))\n",
        "        sys.stdout.flush()\n",
        "        break\n",
        "    else:\n",
        "        print(\"I found {} frequent itemsets of length {}\".format(len(cur_frequent_itemsets), k))\n",
        "        #print(cur_frequent_itemsets)\n",
        "        sys.stdout.flush()\n",
        "        frequent_itemsets[k] = cur_frequent_itemsets\n",
        "# We aren't interested in the itemsets of length 1, so remove those\n",
        "del frequent_itemsets[1]"
      ],
      "execution_count": null,
      "outputs": [
        {
          "output_type": "stream",
          "text": [
            "I found 1242 frequent itemsets of length 2\n",
            "I found 2214 frequent itemsets of length 3\n",
            "I found 1767 frequent itemsets of length 4\n",
            "I found 665 frequent itemsets of length 5\n",
            "I found 96 frequent itemsets of length 6\n",
            "I found 1 frequent itemsets of length 7\n",
            "Did not find any frequent itemsets of length 8\n"
          ],
          "name": "stdout"
        }
      ]
    },
    {
      "cell_type": "code",
      "metadata": {
        "colab": {
          "base_uri": "https://localhost:8080/"
        },
        "id": "kC_70dSGL4-p",
        "outputId": "e7e5e541-a666-4031-dfa8-8c656f4f83e4"
      },
      "source": [
        "print(frequent_itemsets[6])\n",
        "print(frequent_itemsets[7])"
      ],
      "execution_count": null,
      "outputs": [
        {
          "output_type": "stream",
          "text": [
            "{frozenset({1, 50, 181, 172, 173, 174}): 20, frozenset({50, 98, 7, 56, 12, 174}): 20, frozenset({50, 172, 7, 56, 12, 174}): 20, frozenset({64, 50, 98, 7, 56, 174}): 21, frozenset({64, 50, 7, 56, 172, 174}): 20, frozenset({50, 98, 7, 56, 174, 79}): 21, frozenset({50, 100, 7, 56, 174, 79}): 20, frozenset({50, 7, 56, 172, 174, 79}): 22, frozenset({50, 181, 7, 56, 174, 79}): 20, frozenset({50, 7, 56, 89, 172, 174}): 21, frozenset({50, 98, 100, 7, 56, 174}): 20, frozenset({50, 98, 7, 56, 172, 174}): 21, frozenset({50, 98, 181, 7, 56, 174}): 20, frozenset({50, 100, 7, 56, 172, 174}): 21, frozenset({50, 7, 56, 172, 173, 174}): 21, frozenset({50, 181, 7, 56, 172, 174}): 24, frozenset({50, 210, 7, 56, 172, 174}): 22, frozenset({64, 50, 181, 7, 172, 174}): 20, frozenset({50, 98, 7, 172, 174, 79}): 20, frozenset({50, 98, 181, 7, 174, 79}): 20, frozenset({50, 181, 7, 172, 174, 79}): 20, frozenset({96, 50, 195, 7, 172, 174}): 20, frozenset({50, 98, 181, 7, 172, 174}): 20, frozenset({50, 181, 7, 172, 173, 174}): 20, frozenset({98, 7, 56, 172, 174, 79}): 20, frozenset({64, 50, 98, 56, 12, 174}): 21, frozenset({50, 98, 100, 56, 12, 174}): 21, frozenset({50, 98, 172, 56, 12, 174}): 21, frozenset({50, 181, 56, 172, 12, 174}): 21, frozenset({50, 98, 181, 172, 12, 174}): 20, frozenset({64, 98, 100, 56, 12, 127}): 20, frozenset({64, 98, 100, 56, 12, 174}): 22, frozenset({64, 50, 98, 100, 56, 174}): 20, frozenset({64, 50, 98, 56, 172, 174}): 21, frozenset({64, 50, 98, 181, 56, 174}): 20, frozenset({64, 50, 98, 56, 174, 216}): 20, frozenset({64, 50, 181, 56, 172, 174}): 21, frozenset({50, 181, 56, 172, 174, 79}): 20, frozenset({50, 181, 56, 89, 172, 174}): 21, frozenset({50, 98, 56, 172, 173, 174}): 20, frozenset({50, 98, 181, 56, 172, 174}): 23, frozenset({50, 98, 258, 56, 172, 174}): 20, frozenset({50, 100, 181, 56, 172, 174}): 20, frozenset({50, 181, 56, 172, 173, 174}): 20, frozenset({50, 210, 181, 56, 172, 174}): 20, frozenset({50, 258, 181, 56, 172, 174}): 20, frozenset({64, 50, 98, 172, 173, 174}): 20, frozenset({64, 50, 98, 181, 172, 174}): 23, frozenset({64, 50, 98, 210, 172, 174}): 20, frozenset({64, 50, 181, 183, 172, 174}): 20, frozenset({64, 50, 204, 181, 172, 174}): 20, frozenset({64, 50, 210, 181, 172, 174}): 20, frozenset({96, 50, 195, 89, 174, 79}): 20, frozenset({50, 195, 89, 172, 174, 79}): 20, frozenset({96, 50, 195, 172, 174, 79}): 21, frozenset({50, 98, 181, 172, 174, 79}): 21, frozenset({50, 181, 183, 172, 174, 79}): 21, frozenset({50, 195, 181, 172, 174, 79}): 21, frozenset({50, 210, 181, 172, 174, 79}): 22, frozenset({50, 228, 181, 172, 174, 79}): 20, frozenset({50, 195, 183, 172, 174, 79}): 21, frozenset({50, 210, 183, 172, 174, 79}): 20, frozenset({50, 195, 210, 172, 174, 79}): 20, frozenset({50, 195, 181, 183, 174, 79}): 20, frozenset({96, 50, 181, 89, 172, 174}): 20, frozenset({96, 50, 183, 89, 172, 174}): 20, frozenset({96, 50, 195, 89, 172, 174}): 20, frozenset({50, 181, 183, 89, 172, 174}): 21, frozenset({50, 181, 89, 172, 222, 174}): 20, frozenset({50, 228, 181, 89, 172, 174}): 20, frozenset({96, 50, 181, 183, 172, 174}): 21, frozenset({96, 50, 195, 181, 172, 174}): 22, frozenset({96, 50, 181, 172, 222, 174}): 20, frozenset({96, 50, 195, 183, 172, 174}): 21, frozenset({96, 50, 195, 228, 172, 174}): 20, frozenset({50, 98, 181, 172, 173, 174}): 21, frozenset({50, 98, 181, 183, 172, 174}): 20, frozenset({50, 98, 195, 181, 172, 174}): 20, frozenset({50, 98, 210, 181, 172, 174}): 20, frozenset({50, 98, 258, 181, 172, 174}): 20, frozenset({50, 181, 168, 172, 173, 174}): 20, frozenset({50, 222, 181, 172, 173, 174}): 20, frozenset({176, 50, 181, 183, 172, 174}): 21, frozenset({176, 50, 195, 181, 172, 174}): 20, frozenset({50, 195, 181, 183, 172, 174}): 22, frozenset({50, 210, 181, 183, 172, 174}): 20, frozenset({50, 228, 181, 183, 172, 174}): 20, frozenset({50, 195, 210, 181, 172, 174}): 20, frozenset({50, 195, 181, 172, 222, 174}): 20, frozenset({64, 98, 100, 56, 174, 127}): 21, frozenset({64, 50, 98, 69, 172, 174}): 21, frozenset({64, 50, 98, 181, 69, 172}): 20, frozenset({64, 50, 98, 181, 69, 174}): 20, frozenset({64, 50, 181, 69, 172, 174}): 21, frozenset({50, 98, 181, 69, 172, 174}): 21, frozenset({64, 98, 181, 69, 172, 174}): 20}\n",
            "{frozenset({64, 50, 98, 181, 69, 172, 174}): 20}\n"
          ],
          "name": "stdout"
        }
      ]
    },
    {
      "cell_type": "code",
      "metadata": {
        "id": "aVvMfqU-fplo",
        "colab": {
          "base_uri": "https://localhost:8080/"
        },
        "outputId": "c684d5ee-9ea1-4059-d39c-829ab757ead3"
      },
      "source": [
        "print(\"Found a total of {0} frequent itemsets\".format(sum(len(itemsets) for itemsets in frequent_itemsets.values())))"
      ],
      "execution_count": null,
      "outputs": [
        {
          "output_type": "stream",
          "text": [
            "Found a total of 5985 frequent itemsets\n"
          ],
          "name": "stdout"
        }
      ]
    },
    {
      "cell_type": "markdown",
      "metadata": {
        "id": "GUTFjevoWifM"
      },
      "source": [
        "### Candidate rules"
      ]
    },
    {
      "cell_type": "code",
      "metadata": {
        "id": "MsW9atwcfplp",
        "colab": {
          "base_uri": "https://localhost:8080/"
        },
        "outputId": "7de867b9-85f0-4933-f0f1-1dd510eafd5a"
      },
      "source": [
        "# Now we create the association rules. First, they are candidates until the confidence has been tested\n",
        "candidate_rules = []\n",
        "import pdb\n",
        "for itemset_length, itemset_counts in frequent_itemsets.items():\n",
        "    \n",
        "    pdb.set_trace()\n",
        "    for itemset in itemset_counts.keys():\n",
        "        for conclusion in itemset: #  {...} ==> conclusion\n",
        "            premise = itemset - set((conclusion,))\n",
        "            candidate_rules.append((premise, conclusion))\n",
        "print(\"There are {} candidate rules\".format(len(candidate_rules)))"
      ],
      "execution_count": null,
      "outputs": [
        {
          "output_type": "stream",
          "text": [
            "> <ipython-input-57-bc583aec1af7>(7)<module>()\n",
            "-> for itemset in itemset_counts.keys():\n",
            "(Pdb) ?\n",
            "\n",
            "Documented commands (type help <topic>):\n",
            "========================================\n",
            "EOF    c          d        h         list      q        rv       undisplay\n",
            "a      cl         debug    help      ll        quit     s        unt      \n",
            "alias  clear      disable  ignore    longlist  r        source   until    \n",
            "args   commands   display  interact  n         restart  step     up       \n",
            "b      condition  down     j         next      return   tbreak   w        \n",
            "break  cont       enable   jump      p         retval   u        whatis   \n",
            "bt     continue   exit     l         pp        run      unalias  where    \n",
            "\n",
            "Miscellaneous help topics:\n",
            "==========================\n",
            "exec  pdb\n",
            "\n",
            "(Pdb) l\n",
            "  2  \tcandidate_rules = []\n",
            "  3  \timport pdb\n",
            "  4  \tfor itemset_length, itemset_counts in frequent_itemsets.items():\n",
            "  5  \t\n",
            "  6  \t    pdb.set_trace()\n",
            "  7  ->\t    for itemset in itemset_counts.keys():\n",
            "  8  \t        for conclusion in itemset: #  {...} ==> conclusion\n",
            "  9  \t            premise = itemset - set((conclusion,))\n",
            " 10  \t            candidate_rules.append((premise, conclusion))\n",
            " 11  \tprint(\"There are {} candidate rules\".format(len(candidate_rules)))\n",
            "[EOF]\n"
          ],
          "name": "stdout"
        }
      ]
    },
    {
      "cell_type": "code",
      "metadata": {
        "id": "_YfCcTyJfplp",
        "colab": {
          "base_uri": "https://localhost:8080/"
        },
        "outputId": "75353a68-89dd-4bfc-de43-b8229c91ad67"
      },
      "source": [
        "print(candidate_rules[:5])\n",
        "print(candidate_rules[-5:])"
      ],
      "execution_count": null,
      "outputs": [
        {
          "output_type": "stream",
          "text": [
            "[(frozenset({7}), 1), (frozenset({1}), 7), (frozenset({9}), 1), (frozenset({1}), 9), (frozenset({12}), 1)]\n",
            "[(frozenset({64, 69, 172, 174, 50, 181}), 98), (frozenset({64, 98, 69, 172, 174, 50}), 181), (frozenset({64, 98, 172, 174, 50, 181}), 69), (frozenset({64, 98, 69, 174, 50, 181}), 172), (frozenset({64, 98, 69, 172, 50, 181}), 174)]\n"
          ],
          "name": "stdout"
        }
      ]
    },
    {
      "cell_type": "markdown",
      "metadata": {
        "id": "dUPkkKdpYgxZ"
      },
      "source": [
        "### Computing Confience for each rule"
      ]
    },
    {
      "cell_type": "code",
      "metadata": {
        "id": "idqjyAHqfplq"
      },
      "source": [
        "# Now, we compute the confidence of each of these rules. \n",
        "correct_counts = defaultdict(int)\n",
        "incorrect_counts = defaultdict(int)\n",
        "for user, reviews in favorable_reviews_by_users.items():\n",
        "    for candidate_rule in candidate_rules:\n",
        "        premise, conclusion = candidate_rule\n",
        "        if premise.issubset(reviews):\n",
        "            if conclusion in reviews:\n",
        "                correct_counts[candidate_rule] += 1\n",
        "            else:\n",
        "                incorrect_counts[candidate_rule] += 1\n",
        "rule_confidence = {candidate_rule: \n",
        "        correct_counts[candidate_rule] / float(correct_counts[candidate_rule] + incorrect_counts[candidate_rule])\n",
        "              for candidate_rule in candidate_rules}"
      ],
      "execution_count": null,
      "outputs": []
    },
    {
      "cell_type": "code",
      "metadata": {
        "id": "ovhe8Tbcfplq"
      },
      "source": [
        "# Choose only rules above a minimum confidence level\n",
        "min_confidence = 0.9"
      ],
      "execution_count": null,
      "outputs": []
    },
    {
      "cell_type": "code",
      "metadata": {
        "id": "1UEKlbT1fplq",
        "colab": {
          "base_uri": "https://localhost:8080/"
        },
        "outputId": "e9844ae4-03e1-4e21-a558-d26503439331"
      },
      "source": [
        "# Filter out the rules with poor confidence\n",
        "rule_confidence = {rule: confidence for rule, confidence in rule_confidence.items() if confidence > min_confidence}\n",
        "print(len(rule_confidence))"
      ],
      "execution_count": null,
      "outputs": [
        {
          "output_type": "stream",
          "text": [
            "5113\n"
          ],
          "name": "stdout"
        }
      ]
    },
    {
      "cell_type": "code",
      "metadata": {
        "id": "l2FPQ8aDfplr"
      },
      "source": [
        "from operator import itemgetter\n",
        "sorted_confidence = sorted(rule_confidence.items(), key=itemgetter(1), reverse=True)"
      ],
      "execution_count": null,
      "outputs": []
    },
    {
      "cell_type": "code",
      "metadata": {
        "colab": {
          "base_uri": "https://localhost:8080/"
        },
        "id": "pfVy-QK0ZmiC",
        "outputId": "d5e83e3a-45f9-453e-f95e-b8bd74c66b62"
      },
      "source": [
        "# note on itemgetter\n",
        "print(itemgetter(1)([2,3]))\n",
        "def myItemGetter(n):\n",
        "    def f(items):\n",
        "        return items[n]\n",
        "    return f\n",
        "print(myItemGetter(1)([2,3]))\n"
      ],
      "execution_count": null,
      "outputs": [
        {
          "output_type": "stream",
          "text": [
            "3\n",
            "3\n"
          ],
          "name": "stdout"
        }
      ]
    },
    {
      "cell_type": "code",
      "metadata": {
        "id": "fL_T1TTefplr",
        "colab": {
          "base_uri": "https://localhost:8080/"
        },
        "outputId": "bca5ec06-03bb-4002-cd46-f41ce8f19f51"
      },
      "source": [
        "for index in range(0,3500,300):\n",
        "    print(\"Rule #{0}\".format(index + 1))\n",
        "    (premise, conclusion) = sorted_confidence[index][0]\n",
        "    print(\"Rule: If a person recommends {0} they will also recommend {1}\".format(premise, conclusion))\n",
        "    print(\" - Confidence: {0:.3f}\".format(rule_confidence[(premise, conclusion)]))\n",
        "    print(\"\")"
      ],
      "execution_count": null,
      "outputs": [
        {
          "output_type": "stream",
          "text": [
            "Rule #1\n",
            "Rule: If a person recommends frozenset({89, 1}) they will also recommend 50\n",
            " - Confidence: 1.000\n",
            "\n",
            "Rule #301\n",
            "Rule: If a person recommends frozenset({50, 22, 98}) they will also recommend 174\n",
            " - Confidence: 1.000\n",
            "\n",
            "Rule #601\n",
            "Rule: If a person recommends frozenset({50, 173, 175}) they will also recommend 174\n",
            " - Confidence: 1.000\n",
            "\n",
            "Rule #901\n",
            "Rule: If a person recommends frozenset({96, 50, 69}) they will also recommend 174\n",
            " - Confidence: 1.000\n",
            "\n",
            "Rule #1201\n",
            "Rule: If a person recommends frozenset({56, 50, 172, 100}) they will also recommend 174\n",
            " - Confidence: 1.000\n",
            "\n",
            "Rule #1501\n",
            "Rule: If a person recommends frozenset({172, 204, 181, 174}) they will also recommend 50\n",
            " - Confidence: 1.000\n",
            "\n",
            "Rule #1801\n",
            "Rule: If a person recommends frozenset({172, 50, 181, 89, 222}) they will also recommend 174\n",
            " - Confidence: 1.000\n",
            "\n",
            "Rule #2101\n",
            "Rule: If a person recommends frozenset({64, 174, 183}) they will also recommend 50\n",
            " - Confidence: 0.960\n",
            "\n",
            "Rule #2401\n",
            "Rule: If a person recommends frozenset({176, 210, 50}) they will also recommend 172\n",
            " - Confidence: 0.957\n",
            "\n",
            "Rule #2701\n",
            "Rule: If a person recommends frozenset({50, 172, 182}) they will also recommend 174\n",
            " - Confidence: 0.955\n",
            "\n",
            "Rule #3001\n",
            "Rule: If a person recommends frozenset({1, 173, 238}) they will also recommend 174\n",
            " - Confidence: 0.952\n",
            "\n",
            "Rule #3301\n",
            "Rule: If a person recommends frozenset({228, 79, 174, 7}) they will also recommend 50\n",
            " - Confidence: 0.952\n",
            "\n"
          ],
          "name": "stdout"
        }
      ]
    },
    {
      "cell_type": "markdown",
      "metadata": {
        "id": "gGfx-KJsbKrE"
      },
      "source": [
        "### Get movie titles"
      ]
    },
    {
      "cell_type": "code",
      "metadata": {
        "id": "MP0c46kgfplr"
      },
      "source": [
        "# Even better, we can get the movie titles themselves from the dataset\n",
        "movie_name_filename = os.path.join('.', \"u.item\")\n",
        "movie_name_data = pd.read_csv(movie_name_filename, delimiter=\"|\", header=None, encoding = \"mac-roman\")\n",
        "movie_name_data.columns = [\"MovieID\", \"Title\", \"Release Date\", \"Video Release\", \"IMDB\", \"<UNK>\", \"Action\", \"Adventure\",\n",
        "                           \"Animation\", \"Children's\", \"Comedy\", \"Crime\", \"Documentary\", \"Drama\", \"Fantasy\", \"Film-Noir\",\n",
        "                           \"Horror\", \"Musical\", \"Mystery\", \"Romance\", \"Sci-Fi\", \"Thriller\", \"War\", \"Western\"]"
      ],
      "execution_count": null,
      "outputs": []
    },
    {
      "cell_type": "code",
      "metadata": {
        "colab": {
          "base_uri": "https://localhost:8080/",
          "height": 350
        },
        "id": "6IP3WiJ6bXBh",
        "outputId": "a8240ea9-6348-4569-d176-eac8a6d96380"
      },
      "source": [
        "movie_name_data.head()"
      ],
      "execution_count": null,
      "outputs": [
        {
          "output_type": "execute_result",
          "data": {
            "text/html": [
              "<div>\n",
              "<style scoped>\n",
              "    .dataframe tbody tr th:only-of-type {\n",
              "        vertical-align: middle;\n",
              "    }\n",
              "\n",
              "    .dataframe tbody tr th {\n",
              "        vertical-align: top;\n",
              "    }\n",
              "\n",
              "    .dataframe thead th {\n",
              "        text-align: right;\n",
              "    }\n",
              "</style>\n",
              "<table border=\"1\" class=\"dataframe\">\n",
              "  <thead>\n",
              "    <tr style=\"text-align: right;\">\n",
              "      <th></th>\n",
              "      <th>MovieID</th>\n",
              "      <th>Title</th>\n",
              "      <th>Release Date</th>\n",
              "      <th>Video Release</th>\n",
              "      <th>IMDB</th>\n",
              "      <th>&lt;UNK&gt;</th>\n",
              "      <th>Action</th>\n",
              "      <th>Adventure</th>\n",
              "      <th>Animation</th>\n",
              "      <th>Children's</th>\n",
              "      <th>Comedy</th>\n",
              "      <th>Crime</th>\n",
              "      <th>Documentary</th>\n",
              "      <th>Drama</th>\n",
              "      <th>Fantasy</th>\n",
              "      <th>Film-Noir</th>\n",
              "      <th>Horror</th>\n",
              "      <th>Musical</th>\n",
              "      <th>Mystery</th>\n",
              "      <th>Romance</th>\n",
              "      <th>Sci-Fi</th>\n",
              "      <th>Thriller</th>\n",
              "      <th>War</th>\n",
              "      <th>Western</th>\n",
              "    </tr>\n",
              "  </thead>\n",
              "  <tbody>\n",
              "    <tr>\n",
              "      <th>0</th>\n",
              "      <td>1</td>\n",
              "      <td>Toy Story (1995)</td>\n",
              "      <td>01-Jan-1995</td>\n",
              "      <td>NaN</td>\n",
              "      <td>http://us.imdb.com/M/title-exact?Toy%20Story%2...</td>\n",
              "      <td>0</td>\n",
              "      <td>0</td>\n",
              "      <td>0</td>\n",
              "      <td>1</td>\n",
              "      <td>1</td>\n",
              "      <td>1</td>\n",
              "      <td>0</td>\n",
              "      <td>0</td>\n",
              "      <td>0</td>\n",
              "      <td>0</td>\n",
              "      <td>0</td>\n",
              "      <td>0</td>\n",
              "      <td>0</td>\n",
              "      <td>0</td>\n",
              "      <td>0</td>\n",
              "      <td>0</td>\n",
              "      <td>0</td>\n",
              "      <td>0</td>\n",
              "      <td>0</td>\n",
              "    </tr>\n",
              "    <tr>\n",
              "      <th>1</th>\n",
              "      <td>2</td>\n",
              "      <td>GoldenEye (1995)</td>\n",
              "      <td>01-Jan-1995</td>\n",
              "      <td>NaN</td>\n",
              "      <td>http://us.imdb.com/M/title-exact?GoldenEye%20(...</td>\n",
              "      <td>0</td>\n",
              "      <td>1</td>\n",
              "      <td>1</td>\n",
              "      <td>0</td>\n",
              "      <td>0</td>\n",
              "      <td>0</td>\n",
              "      <td>0</td>\n",
              "      <td>0</td>\n",
              "      <td>0</td>\n",
              "      <td>0</td>\n",
              "      <td>0</td>\n",
              "      <td>0</td>\n",
              "      <td>0</td>\n",
              "      <td>0</td>\n",
              "      <td>0</td>\n",
              "      <td>0</td>\n",
              "      <td>1</td>\n",
              "      <td>0</td>\n",
              "      <td>0</td>\n",
              "    </tr>\n",
              "    <tr>\n",
              "      <th>2</th>\n",
              "      <td>3</td>\n",
              "      <td>Four Rooms (1995)</td>\n",
              "      <td>01-Jan-1995</td>\n",
              "      <td>NaN</td>\n",
              "      <td>http://us.imdb.com/M/title-exact?Four%20Rooms%...</td>\n",
              "      <td>0</td>\n",
              "      <td>0</td>\n",
              "      <td>0</td>\n",
              "      <td>0</td>\n",
              "      <td>0</td>\n",
              "      <td>0</td>\n",
              "      <td>0</td>\n",
              "      <td>0</td>\n",
              "      <td>0</td>\n",
              "      <td>0</td>\n",
              "      <td>0</td>\n",
              "      <td>0</td>\n",
              "      <td>0</td>\n",
              "      <td>0</td>\n",
              "      <td>0</td>\n",
              "      <td>0</td>\n",
              "      <td>1</td>\n",
              "      <td>0</td>\n",
              "      <td>0</td>\n",
              "    </tr>\n",
              "    <tr>\n",
              "      <th>3</th>\n",
              "      <td>4</td>\n",
              "      <td>Get Shorty (1995)</td>\n",
              "      <td>01-Jan-1995</td>\n",
              "      <td>NaN</td>\n",
              "      <td>http://us.imdb.com/M/title-exact?Get%20Shorty%...</td>\n",
              "      <td>0</td>\n",
              "      <td>1</td>\n",
              "      <td>0</td>\n",
              "      <td>0</td>\n",
              "      <td>0</td>\n",
              "      <td>1</td>\n",
              "      <td>0</td>\n",
              "      <td>0</td>\n",
              "      <td>1</td>\n",
              "      <td>0</td>\n",
              "      <td>0</td>\n",
              "      <td>0</td>\n",
              "      <td>0</td>\n",
              "      <td>0</td>\n",
              "      <td>0</td>\n",
              "      <td>0</td>\n",
              "      <td>0</td>\n",
              "      <td>0</td>\n",
              "      <td>0</td>\n",
              "    </tr>\n",
              "    <tr>\n",
              "      <th>4</th>\n",
              "      <td>5</td>\n",
              "      <td>Copycat (1995)</td>\n",
              "      <td>01-Jan-1995</td>\n",
              "      <td>NaN</td>\n",
              "      <td>http://us.imdb.com/M/title-exact?Copycat%20(1995)</td>\n",
              "      <td>0</td>\n",
              "      <td>0</td>\n",
              "      <td>0</td>\n",
              "      <td>0</td>\n",
              "      <td>0</td>\n",
              "      <td>0</td>\n",
              "      <td>1</td>\n",
              "      <td>0</td>\n",
              "      <td>1</td>\n",
              "      <td>0</td>\n",
              "      <td>0</td>\n",
              "      <td>0</td>\n",
              "      <td>0</td>\n",
              "      <td>0</td>\n",
              "      <td>0</td>\n",
              "      <td>0</td>\n",
              "      <td>1</td>\n",
              "      <td>0</td>\n",
              "      <td>0</td>\n",
              "    </tr>\n",
              "  </tbody>\n",
              "</table>\n",
              "</div>"
            ],
            "text/plain": [
              "   MovieID              Title Release Date  ...  Thriller War  Western\n",
              "0        1   Toy Story (1995)  01-Jan-1995  ...         0   0        0\n",
              "1        2   GoldenEye (1995)  01-Jan-1995  ...         1   0        0\n",
              "2        3  Four Rooms (1995)  01-Jan-1995  ...         1   0        0\n",
              "3        4  Get Shorty (1995)  01-Jan-1995  ...         0   0        0\n",
              "4        5     Copycat (1995)  01-Jan-1995  ...         1   0        0\n",
              "\n",
              "[5 rows x 24 columns]"
            ]
          },
          "metadata": {
            "tags": []
          },
          "execution_count": 40
        }
      ]
    },
    {
      "cell_type": "code",
      "metadata": {
        "id": "hocV-AGcfplt"
      },
      "source": [
        "def get_movie_name(movie_id):\n",
        "    title_object = movie_name_data[movie_name_data[\"MovieID\"] == movie_id][\"Title\"]\n",
        "    title = title_object.values[0]\n",
        "    return title"
      ],
      "execution_count": null,
      "outputs": []
    },
    {
      "cell_type": "code",
      "metadata": {
        "id": "yuNarKKAfplt",
        "colab": {
          "base_uri": "https://localhost:8080/",
          "height": 35
        },
        "outputId": "8f0c09b9-6631-4e4f-be51-518edce5c188"
      },
      "source": [
        "get_movie_name(4)"
      ],
      "execution_count": null,
      "outputs": [
        {
          "output_type": "execute_result",
          "data": {
            "application/vnd.google.colaboratory.intrinsic+json": {
              "type": "string"
            },
            "text/plain": [
              "'Get Shorty (1995)'"
            ]
          },
          "metadata": {
            "tags": []
          },
          "execution_count": 42
        }
      ]
    },
    {
      "cell_type": "code",
      "metadata": {
        "id": "oRU1prR9fplu",
        "colab": {
          "base_uri": "https://localhost:8080/"
        },
        "outputId": "2669ce44-5834-4875-beb5-7ca3bac8e504"
      },
      "source": [
        "for index in range(0, 3500, 300):\n",
        "    print(\"Rule #{0}\".format(index + 1))\n",
        "    (premise, conclusion) = sorted_confidence[index][0]\n",
        "    premise_names = \", \".join(get_movie_name(idx) for idx in premise)\n",
        "    conclusion_name = get_movie_name(conclusion)\n",
        "    print(\"Rule: If a person recommends {0} they will also recommend {1}\".format(premise_names, conclusion_name))\n",
        "    print(\" - Confidence: {0:.3f}\".format(rule_confidence[(premise, conclusion)]))\n",
        "    print(\"\")"
      ],
      "execution_count": null,
      "outputs": [
        {
          "output_type": "stream",
          "text": [
            "Rule #1\n",
            "Rule: If a person recommends Blade Runner (1982), Toy Story (1995) they will also recommend Star Wars (1977)\n",
            " - Confidence: 1.000\n",
            "\n",
            "Rule #301\n",
            "Rule: If a person recommends Star Wars (1977), Braveheart (1995), Silence of the Lambs, The (1991) they will also recommend Raiders of the Lost Ark (1981)\n",
            " - Confidence: 1.000\n",
            "\n",
            "Rule #601\n",
            "Rule: If a person recommends Star Wars (1977), Princess Bride, The (1987), Brazil (1985) they will also recommend Raiders of the Lost Ark (1981)\n",
            " - Confidence: 1.000\n",
            "\n",
            "Rule #901\n",
            "Rule: If a person recommends Terminator 2: Judgment Day (1991), Star Wars (1977), Forrest Gump (1994) they will also recommend Raiders of the Lost Ark (1981)\n",
            " - Confidence: 1.000\n",
            "\n",
            "Rule #1201\n",
            "Rule: If a person recommends Pulp Fiction (1994), Star Wars (1977), Empire Strikes Back, The (1980), Fargo (1996) they will also recommend Raiders of the Lost Ark (1981)\n",
            " - Confidence: 1.000\n",
            "\n",
            "Rule #1501\n",
            "Rule: If a person recommends Empire Strikes Back, The (1980), Back to the Future (1985), Return of the Jedi (1983), Raiders of the Lost Ark (1981) they will also recommend Star Wars (1977)\n",
            " - Confidence: 1.000\n",
            "\n",
            "Rule #1801\n",
            "Rule: If a person recommends Empire Strikes Back, The (1980), Star Wars (1977), Return of the Jedi (1983), Blade Runner (1982), Star Trek: First Contact (1996) they will also recommend Raiders of the Lost Ark (1981)\n",
            " - Confidence: 1.000\n",
            "\n",
            "Rule #2101\n",
            "Rule: If a person recommends Shawshank Redemption, The (1994), Raiders of the Lost Ark (1981), Alien (1979) they will also recommend Star Wars (1977)\n",
            " - Confidence: 0.960\n",
            "\n",
            "Rule #2401\n",
            "Rule: If a person recommends Aliens (1986), Indiana Jones and the Last Crusade (1989), Star Wars (1977) they will also recommend Empire Strikes Back, The (1980)\n",
            " - Confidence: 0.957\n",
            "\n",
            "Rule #2701\n",
            "Rule: If a person recommends Star Wars (1977), Empire Strikes Back, The (1980), GoodFellas (1990) they will also recommend Raiders of the Lost Ark (1981)\n",
            " - Confidence: 0.955\n",
            "\n",
            "Rule #3001\n",
            "Rule: If a person recommends Toy Story (1995), Princess Bride, The (1987), Raising Arizona (1987) they will also recommend Raiders of the Lost Ark (1981)\n",
            " - Confidence: 0.952\n",
            "\n",
            "Rule #3301\n",
            "Rule: If a person recommends Star Trek: The Wrath of Khan (1982), Fugitive, The (1993), Raiders of the Lost Ark (1981), Twelve Monkeys (1995) they will also recommend Star Wars (1977)\n",
            " - Confidence: 0.952\n",
            "\n"
          ],
          "name": "stdout"
        }
      ]
    },
    {
      "cell_type": "markdown",
      "metadata": {
        "id": "MZJVxVkKdfk4"
      },
      "source": [
        "### Evaluation"
      ]
    },
    {
      "cell_type": "code",
      "metadata": {
        "id": "MNeyQb8cfplu"
      },
      "source": [
        "# Evaluation using test data\n",
        "test_dataset = all_ratings[~ (    all_ratings['UserID'].isin(range(200)) ) \n",
        "    ]\n",
        "test_favorable = test_dataset[test_dataset[\"Favorable\"]]\n",
        "#test_not_favourable = test_dataset[~test_dataset[\"Favourable\"]]\n",
        "test_favorable_by_users = dict((k, frozenset(v.values)) for k, v in test_favorable.groupby(\"UserID\")[\"MovieID\"])\n",
        "#test_not_favourable_by_users = dict((k, frozenset(v.values)) for k, v in test_not_favourable.groupby(\"UserID\")[\"MovieID\"])\n",
        "#test_users = test_dataset[\"UserID\"].unique()"
      ],
      "execution_count": null,
      "outputs": []
    },
    {
      "cell_type": "code",
      "metadata": {
        "id": "ZqlXKWIFfplu",
        "colab": {
          "base_uri": "https://localhost:8080/",
          "height": 195
        },
        "outputId": "a2d61d1d-0907-4875-c7d7-1db4aa06019f"
      },
      "source": [
        "test_dataset[:5]"
      ],
      "execution_count": null,
      "outputs": [
        {
          "output_type": "execute_result",
          "data": {
            "text/html": [
              "<div>\n",
              "<style scoped>\n",
              "    .dataframe tbody tr th:only-of-type {\n",
              "        vertical-align: middle;\n",
              "    }\n",
              "\n",
              "    .dataframe tbody tr th {\n",
              "        vertical-align: top;\n",
              "    }\n",
              "\n",
              "    .dataframe thead th {\n",
              "        text-align: right;\n",
              "    }\n",
              "</style>\n",
              "<table border=\"1\" class=\"dataframe\">\n",
              "  <thead>\n",
              "    <tr style=\"text-align: right;\">\n",
              "      <th></th>\n",
              "      <th>UserID</th>\n",
              "      <th>MovieID</th>\n",
              "      <th>Rating</th>\n",
              "      <th>Datetime</th>\n",
              "      <th>Favorable</th>\n",
              "    </tr>\n",
              "  </thead>\n",
              "  <tbody>\n",
              "    <tr>\n",
              "      <th>3</th>\n",
              "      <td>244</td>\n",
              "      <td>51</td>\n",
              "      <td>2</td>\n",
              "      <td>1997-11-27 05:02:03</td>\n",
              "      <td>False</td>\n",
              "    </tr>\n",
              "    <tr>\n",
              "      <th>5</th>\n",
              "      <td>298</td>\n",
              "      <td>474</td>\n",
              "      <td>4</td>\n",
              "      <td>1998-01-07 14:20:06</td>\n",
              "      <td>True</td>\n",
              "    </tr>\n",
              "    <tr>\n",
              "      <th>7</th>\n",
              "      <td>253</td>\n",
              "      <td>465</td>\n",
              "      <td>5</td>\n",
              "      <td>1998-04-03 18:34:27</td>\n",
              "      <td>True</td>\n",
              "    </tr>\n",
              "    <tr>\n",
              "      <th>8</th>\n",
              "      <td>305</td>\n",
              "      <td>451</td>\n",
              "      <td>3</td>\n",
              "      <td>1998-02-01 09:20:17</td>\n",
              "      <td>False</td>\n",
              "    </tr>\n",
              "    <tr>\n",
              "      <th>11</th>\n",
              "      <td>286</td>\n",
              "      <td>1014</td>\n",
              "      <td>5</td>\n",
              "      <td>1997-11-17 15:38:45</td>\n",
              "      <td>True</td>\n",
              "    </tr>\n",
              "  </tbody>\n",
              "</table>\n",
              "</div>"
            ],
            "text/plain": [
              "    UserID  MovieID  Rating            Datetime  Favorable\n",
              "3      244       51       2 1997-11-27 05:02:03      False\n",
              "5      298      474       4 1998-01-07 14:20:06       True\n",
              "7      253      465       5 1998-04-03 18:34:27       True\n",
              "8      305      451       3 1998-02-01 09:20:17      False\n",
              "11     286     1014       5 1997-11-17 15:38:45       True"
            ]
          },
          "metadata": {
            "tags": []
          },
          "execution_count": 45
        }
      ]
    },
    {
      "cell_type": "code",
      "metadata": {
        "id": "kpHkOvN2fplv"
      },
      "source": [
        "correct_counts = defaultdict(int)\n",
        "incorrect_counts = defaultdict(int)\n",
        "for user, reviews in test_favorable_by_users.items():\n",
        "    for candidate_rule in candidate_rules:\n",
        "        premise, conclusion = candidate_rule\n",
        "        if premise.issubset(reviews):\n",
        "            if conclusion in reviews:\n",
        "                correct_counts[candidate_rule] += 1\n",
        "            else:\n",
        "                incorrect_counts[candidate_rule] += 1"
      ],
      "execution_count": null,
      "outputs": []
    },
    {
      "cell_type": "code",
      "metadata": {
        "id": "_zxjJxanfplv",
        "colab": {
          "base_uri": "https://localhost:8080/"
        },
        "outputId": "af8eae6b-5bd1-4a40-97fd-3df759ec1e09"
      },
      "source": [
        "test_confidence = {candidate_rule: correct_counts[candidate_rule] / float(correct_counts[candidate_rule] + incorrect_counts[candidate_rule])\n",
        "                   for candidate_rule in rule_confidence}\n",
        "print(len(test_confidence))"
      ],
      "execution_count": null,
      "outputs": [
        {
          "output_type": "stream",
          "text": [
            "5113\n"
          ],
          "name": "stdout"
        }
      ]
    },
    {
      "cell_type": "code",
      "metadata": {
        "id": "IFuf6-27fplw",
        "colab": {
          "base_uri": "https://localhost:8080/"
        },
        "outputId": "fb273c76-559f-4950-835a-29defd75a2d6"
      },
      "source": [
        "sorted_test_confidence = sorted(test_confidence.items(), key=itemgetter(1), reverse=True)\n",
        "print(sorted_test_confidence[:5])"
      ],
      "execution_count": null,
      "outputs": [
        {
          "output_type": "stream",
          "text": [
            "[((frozenset({194, 181}), 50), 1.0), ((frozenset({1, 173, 222}), 50), 1.0), ((frozenset({56, 173, 181}), 50), 1.0), ((frozenset({56, 181, 183}), 50), 1.0), ((frozenset({64, 172, 196}), 50), 1.0)]\n"
          ],
          "name": "stdout"
        }
      ]
    },
    {
      "cell_type": "code",
      "metadata": {
        "id": "dRtXoErwfplw",
        "colab": {
          "base_uri": "https://localhost:8080/"
        },
        "outputId": "98a9008f-28e8-44a8-9b8c-8567b2bc5509"
      },
      "source": [
        "for index in range(0, 3500, 300):\n",
        "    print(\"Rule #{0}\".format(index + 1))\n",
        "    (premise, conclusion) = sorted_confidence[index][0]\n",
        "    premise_names = \", \".join(get_movie_name(idx) for idx in premise)\n",
        "    conclusion_name = get_movie_name(conclusion)\n",
        "    print(\"Rule: If a person recommends {0} they will also recommend {1}\".format(premise_names, conclusion_name))\n",
        "    print(\" - Train Confidence: {0:.3f}\".format(rule_confidence.get((premise, conclusion), -1)))\n",
        "    print(\" - Test Confidence: {0:.3f}\".format(test_confidence.get((premise, conclusion), -1)))\n",
        "    print(\"\")"
      ],
      "execution_count": null,
      "outputs": [
        {
          "output_type": "stream",
          "text": [
            "Rule #1\n",
            "Rule: If a person recommends Blade Runner (1982), Toy Story (1995) they will also recommend Star Wars (1977)\n",
            " - Train Confidence: 1.000\n",
            " - Test Confidence: 0.915\n",
            "\n",
            "Rule #301\n",
            "Rule: If a person recommends Star Wars (1977), Braveheart (1995), Silence of the Lambs, The (1991) they will also recommend Raiders of the Lost Ark (1981)\n",
            " - Train Confidence: 1.000\n",
            " - Test Confidence: 0.911\n",
            "\n",
            "Rule #601\n",
            "Rule: If a person recommends Star Wars (1977), Princess Bride, The (1987), Brazil (1985) they will also recommend Raiders of the Lost Ark (1981)\n",
            " - Train Confidence: 1.000\n",
            " - Test Confidence: 0.863\n",
            "\n",
            "Rule #901\n",
            "Rule: If a person recommends Terminator 2: Judgment Day (1991), Star Wars (1977), Forrest Gump (1994) they will also recommend Raiders of the Lost Ark (1981)\n",
            " - Train Confidence: 1.000\n",
            " - Test Confidence: 0.919\n",
            "\n",
            "Rule #1201\n",
            "Rule: If a person recommends Pulp Fiction (1994), Star Wars (1977), Empire Strikes Back, The (1980), Fargo (1996) they will also recommend Raiders of the Lost Ark (1981)\n",
            " - Train Confidence: 1.000\n",
            " - Test Confidence: 0.816\n",
            "\n",
            "Rule #1501\n",
            "Rule: If a person recommends Empire Strikes Back, The (1980), Back to the Future (1985), Return of the Jedi (1983), Raiders of the Lost Ark (1981) they will also recommend Star Wars (1977)\n",
            " - Train Confidence: 1.000\n",
            " - Test Confidence: 0.971\n",
            "\n",
            "Rule #1801\n",
            "Rule: If a person recommends Empire Strikes Back, The (1980), Star Wars (1977), Return of the Jedi (1983), Blade Runner (1982), Star Trek: First Contact (1996) they will also recommend Raiders of the Lost Ark (1981)\n",
            " - Train Confidence: 1.000\n",
            " - Test Confidence: 0.927\n",
            "\n",
            "Rule #2101\n",
            "Rule: If a person recommends Shawshank Redemption, The (1994), Raiders of the Lost Ark (1981), Alien (1979) they will also recommend Star Wars (1977)\n",
            " - Train Confidence: 0.960\n",
            " - Test Confidence: 0.921\n",
            "\n",
            "Rule #2401\n",
            "Rule: If a person recommends Aliens (1986), Indiana Jones and the Last Crusade (1989), Star Wars (1977) they will also recommend Empire Strikes Back, The (1980)\n",
            " - Train Confidence: 0.957\n",
            " - Test Confidence: 0.901\n",
            "\n",
            "Rule #2701\n",
            "Rule: If a person recommends Star Wars (1977), Empire Strikes Back, The (1980), GoodFellas (1990) they will also recommend Raiders of the Lost Ark (1981)\n",
            " - Train Confidence: 0.955\n",
            " - Test Confidence: 0.919\n",
            "\n",
            "Rule #3001\n",
            "Rule: If a person recommends Toy Story (1995), Princess Bride, The (1987), Raising Arizona (1987) they will also recommend Raiders of the Lost Ark (1981)\n",
            " - Train Confidence: 0.952\n",
            " - Test Confidence: 0.868\n",
            "\n",
            "Rule #3301\n",
            "Rule: If a person recommends Star Trek: The Wrath of Khan (1982), Fugitive, The (1993), Raiders of the Lost Ark (1981), Twelve Monkeys (1995) they will also recommend Star Wars (1977)\n",
            " - Train Confidence: 0.952\n",
            " - Test Confidence: 0.972\n",
            "\n"
          ],
          "name": "stdout"
        }
      ]
    },
    {
      "cell_type": "markdown",
      "metadata": {
        "id": "emUxdNhPd5Fx"
      },
      "source": [
        "## Using package `efficient_apriori` for association rules mining"
      ]
    },
    {
      "cell_type": "code",
      "metadata": {
        "colab": {
          "base_uri": "https://localhost:8080/"
        },
        "id": "z9h2kVohd-GK",
        "outputId": "99991854-1e89-41be-817a-4cbd45e8e7e1"
      },
      "source": [
        "!pip install  efficient_apriori  "
      ],
      "execution_count": null,
      "outputs": [
        {
          "output_type": "stream",
          "text": [
            "Collecting efficient_apriori\n",
            "  Downloading https://files.pythonhosted.org/packages/5a/c6/ecdf3a32d23cada466634c649cf4f50fefe76f56eae53ecceff688b306be/efficient_apriori-1.1.1-py3-none-any.whl\n",
            "Installing collected packages: efficient-apriori\n",
            "Successfully installed efficient-apriori-1.1.1\n"
          ],
          "name": "stdout"
        }
      ]
    },
    {
      "cell_type": "markdown",
      "metadata": {
        "id": "0apeVmXMfQAx"
      },
      "source": [
        "- See https://efficient-apriori.readthedocs.io/en/latest/\n",
        "> for working examples and note what to do with large files."
      ]
    },
    {
      "cell_type": "markdown",
      "metadata": {
        "id": "5WxAH_-ceqtJ"
      },
      "source": [
        "### Recall that `favorable_reviews_by_users` is a dictionary \n",
        "\n",
        "- with key-value pairs being:\n",
        "    - UserID as a key \n",
        "    - a set of favorately reviewed movies' IDs as a value"
      ]
    },
    {
      "cell_type": "code",
      "metadata": {
        "colab": {
          "base_uri": "https://localhost:8080/"
        },
        "id": "BXRDBN_zeAD1",
        "outputId": "ecbf2cc1-b1ff-4a5e-a654-560cc26457ef"
      },
      "source": [
        "\n",
        "transactions = favorable_reviews_by_users.values()\n",
        "len(transactions)"
      ],
      "execution_count": null,
      "outputs": [
        {
          "output_type": "execute_result",
          "data": {
            "text/plain": [
              "199"
            ]
          },
          "metadata": {
            "tags": []
          },
          "execution_count": 51
        }
      ]
    },
    {
      "cell_type": "code",
      "metadata": {
        "colab": {
          "base_uri": "https://localhost:8080/"
        },
        "id": "ar2s3jbTfEOK",
        "outputId": "8586f3f3-a097-4217-f5ab-e812c9cce68e"
      },
      "source": [
        "import math \n",
        "from efficient_apriori import apriori\n",
        "itemsets, rules = apriori(transactions, min_support=0.1, min_confidence=.9)\n",
        "for r in rules[0: 3500: 300]:\n",
        "    print (\"efficient_apriori says: \", r)\n",
        "    conf = rule_confidence[(frozenset(r.lhs), (r.rhs)[0])]\n",
        "    print(\"Our program says, confidence={:0.3f}\".format(conf), \n",
        "          math.isclose(conf, r.confidence) )"
      ],
      "execution_count": null,
      "outputs": [
        {
          "output_type": "stream",
          "text": [
            "efficient_apriori says:  {172} -> {50} (conf: 0.915, supp: 0.271, lift: 1.821, conv: 5.870)\n",
            "Our program says, confidence=0.915 True\n",
            "efficient_apriori says:  {172, 195} -> {50} (conf: 0.943, supp: 0.166, lift: 1.876, conv: 8.706)\n",
            "Our program says, confidence=0.943 True\n",
            "efficient_apriori says:  {135, 195} -> {174} (conf: 0.957, supp: 0.111, lift: 2.572, conv: 14.447)\n",
            "Our program says, confidence=0.957 True\n",
            "efficient_apriori says:  {1, 50, 96} -> {174} (conf: 1.000, supp: 0.101, lift: 2.689, conv: 628140703.518)\n",
            "Our program says, confidence=1.000 True\n",
            "efficient_apriori says:  {7, 98, 176} -> {174} (conf: 0.955, supp: 0.106, lift: 2.567, conv: 13.819)\n",
            "Our program says, confidence=0.955 True\n",
            "efficient_apriori says:  {22, 172, 195} -> {174} (conf: 1.000, supp: 0.111, lift: 2.689, conv: 628140703.518)\n",
            "Our program says, confidence=1.000 True\n",
            "efficient_apriori says:  {50, 79, 258} -> {174} (conf: 0.952, supp: 0.101, lift: 2.561, conv: 13.191)\n",
            "Our program says, confidence=0.952 True\n",
            "efficient_apriori says:  {50, 121, 204} -> {174} (conf: 0.913, supp: 0.106, lift: 2.455, conv: 7.224)\n",
            "Our program says, confidence=0.913 True\n",
            "efficient_apriori says:  {50, 181, 204} -> {174} (conf: 0.926, supp: 0.126, lift: 2.490, conv: 8.480)\n",
            "Our program says, confidence=0.926 True\n",
            "efficient_apriori says:  {64, 79, 181} -> {174} (conf: 0.913, supp: 0.106, lift: 2.455, conv: 7.224)\n",
            "Our program says, confidence=0.913 True\n",
            "efficient_apriori says:  {98, 176, 181} -> {174} (conf: 0.952, supp: 0.101, lift: 2.561, conv: 13.191)\n",
            "Our program says, confidence=0.952 True\n",
            "efficient_apriori says:  {69, 173, 174} -> {50} (conf: 0.957, supp: 0.111, lift: 1.903, conv: 11.442)\n",
            "Our program says, confidence=0.957 True\n"
          ],
          "name": "stdout"
        }
      ]
    },
    {
      "cell_type": "markdown",
      "metadata": {
        "id": "pFpm9Y39QgE3"
      },
      "source": [
        "## Some terms in Association Rules Mining\n"
      ]
    },
    {
      "cell_type": "markdown",
      "metadata": {
        "id": "a2aTmyyrItjM"
      },
      "source": [
        " Rule LHS and RHS: \n",
        "$$\n",
        " antecedent \\longrightarrow consequent \n",
        "$$\n",
        "\n",
        "$$\n",
        "\\begin{align}\n",
        "conf(X\\longrightarrow Y) &= supp(X\\cup Y)/supp(X) \\\\\n",
        "&= Prob(X\\ and\\ Y)/Prob(X) \\\\\n",
        "&= Prob(Y | X)\n",
        "\\end{align}\n",
        "$$\n",
        "> Confidence: <font size=\"-1\">The confidence of a rule X->Y is the probability of seeing the consequent in a transaction given that it also contains the antecedent. Note that the metric is not symmetric or directed; for instance, the confidence for X->Y is different than the confidence for Y->X. The confidence is 1 (maximal) for a rule X->Y if the consequent and antecedent always occur together. A problem with confidence is that it is sensitive to the frequency of the consequent (Y) in the database. Caused by the way confidence is calculated, consequents with higher support will automatically produce higher confidence values even if there exists no association between the items.</font>\n",
        "$$\n",
        "\\begin{align}\n",
        " Lift(X\\rightarrow Y)&=\\frac{supp(X\\cup Y)}{supp(X)*supp(Y)} \\\\\n",
        "&=\\frac{Confidence(X\\rightarrow Y)}{supp(Y)} \\\\\n",
        "&=\\frac{Prob(X\\  and\\   Y)}{Prob(X)*Prob(Y)} \n",
        "\\end{align}\n",
        "$$\n",
        "\n",
        "\n",
        "> Lift <font size=\"-1\">measures how many times more often X and Y occur together than expected if they were statistically independent. If items are independent, the lift is 1.</font>\n",
        "\n",
        "$$\n",
        "\\begin{align}\n",
        "Conviction(X\\rightarrow Y) &=\\frac{1-supp(Y)}{1-conf(X\\rightarrow Y)} \\\\\n",
        "&= P(X)P(not\\ Y)/P(X\\ and\\ not\\ Y)\n",
        "\\end{align}\n",
        "$$\n",
        "\n",
        "> Conviction <font size=\"-1\">compares the probability that X appears without Y if they were dependent with the actual frequency of the appearance of X without Y. A high conviction value means that the consequent is highly depending on the antecedent. For instance, in the case of a perfect confidence score, the denominator becomes 0 (due to 1 - 1) for which the conviction score is defined as 'inf'. Similar to lift, if items are independent, the conviction is 1. In that respect it is similar to lift, however, it contrast to lift it is a directed measure since it also uses the information of the absence of the consequent. An interesting fact is that conviction is monotone in confidence and lift.</font>\n",
        "\n",
        "$${levarage}(A\\rightarrow C) = {support}(A\\rightarrow C) - {support}(A) * {support}(C), \\;\\;\\; \\text{range: } [-1, 1]$$\n",
        "\n",
        "\n",
        "> Leverage <font size=\"-1\">computes the difference between the observed frequency of A and C appearing together and the frequency that would be expected if A and C were independent. An leverage value of 0 indicates independence.</font>"
      ]
    },
    {
      "cell_type": "markdown",
      "metadata": {
        "id": "Ii5C1y0ASUin"
      },
      "source": [
        "## Package mlxtend"
      ]
    },
    {
      "cell_type": "code",
      "metadata": {
        "colab": {
          "base_uri": "https://localhost:8080/"
        },
        "id": "CymLjio9Slq3",
        "outputId": "db34328c-bbfe-4ead-d09c-5e23aeadae3a"
      },
      "source": [
        "!pip install -U mlxtend"
      ],
      "execution_count": null,
      "outputs": [
        {
          "output_type": "stream",
          "text": [
            "Collecting mlxtend\n",
            "\u001b[?25l  Downloading https://files.pythonhosted.org/packages/86/30/781c0b962a70848db83339567ecab656638c62f05adb064cb33c0ae49244/mlxtend-0.18.0-py2.py3-none-any.whl (1.3MB)\n",
            "\u001b[K     |████████████████████████████████| 1.4MB 5.4MB/s \n",
            "\u001b[?25hRequirement already satisfied, skipping upgrade: matplotlib>=3.0.0 in /usr/local/lib/python3.7/dist-packages (from mlxtend) (3.2.2)\n",
            "Requirement already satisfied, skipping upgrade: pandas>=0.24.2 in /usr/local/lib/python3.7/dist-packages (from mlxtend) (1.1.5)\n",
            "Requirement already satisfied, skipping upgrade: joblib>=0.13.2 in /usr/local/lib/python3.7/dist-packages (from mlxtend) (1.0.1)\n",
            "Requirement already satisfied, skipping upgrade: scipy>=1.2.1 in /usr/local/lib/python3.7/dist-packages (from mlxtend) (1.4.1)\n",
            "Requirement already satisfied, skipping upgrade: numpy>=1.16.2 in /usr/local/lib/python3.7/dist-packages (from mlxtend) (1.19.5)\n",
            "Requirement already satisfied, skipping upgrade: setuptools in /usr/local/lib/python3.7/dist-packages (from mlxtend) (53.0.0)\n",
            "Requirement already satisfied, skipping upgrade: scikit-learn>=0.20.3 in /usr/local/lib/python3.7/dist-packages (from mlxtend) (0.22.2.post1)\n",
            "Requirement already satisfied, skipping upgrade: python-dateutil>=2.1 in /usr/local/lib/python3.7/dist-packages (from matplotlib>=3.0.0->mlxtend) (2.8.1)\n",
            "Requirement already satisfied, skipping upgrade: kiwisolver>=1.0.1 in /usr/local/lib/python3.7/dist-packages (from matplotlib>=3.0.0->mlxtend) (1.3.1)\n",
            "Requirement already satisfied, skipping upgrade: cycler>=0.10 in /usr/local/lib/python3.7/dist-packages (from matplotlib>=3.0.0->mlxtend) (0.10.0)\n",
            "Requirement already satisfied, skipping upgrade: pyparsing!=2.0.4,!=2.1.2,!=2.1.6,>=2.0.1 in /usr/local/lib/python3.7/dist-packages (from matplotlib>=3.0.0->mlxtend) (2.4.7)\n",
            "Requirement already satisfied, skipping upgrade: pytz>=2017.2 in /usr/local/lib/python3.7/dist-packages (from pandas>=0.24.2->mlxtend) (2018.9)\n",
            "Requirement already satisfied, skipping upgrade: six>=1.5 in /usr/local/lib/python3.7/dist-packages (from python-dateutil>=2.1->matplotlib>=3.0.0->mlxtend) (1.15.0)\n",
            "Installing collected packages: mlxtend\n",
            "  Found existing installation: mlxtend 0.14.0\n",
            "    Uninstalling mlxtend-0.14.0:\n",
            "      Successfully uninstalled mlxtend-0.14.0\n",
            "Successfully installed mlxtend-0.18.0\n"
          ],
          "name": "stdout"
        }
      ]
    },
    {
      "cell_type": "code",
      "metadata": {
        "colab": {
          "base_uri": "https://localhost:8080/",
          "height": 195
        },
        "id": "lMsNbWoBSepk",
        "outputId": "328d75a5-b4c2-4052-b691-6781b94a106d"
      },
      "source": [
        "import pandas as pd\n",
        "from mlxtend.preprocessing import TransactionEncoder\n",
        "from mlxtend.frequent_patterns import apriori, fpmax, fpgrowth\n",
        "\n",
        "\n",
        "dataset = [['Milk', 'Onion', 'Nutmeg', 'Kidney Beans', 'Eggs', 'Yogurt'],\n",
        "           ['Dill', 'Onion', 'Nutmeg', 'Kidney Beans', 'Eggs', 'Yogurt'],\n",
        "           ['Milk', 'Apple', 'Kidney Beans', 'Eggs'],\n",
        "           ['Milk', 'Unicorn', 'Corn', 'Kidney Beans', 'Yogurt'],\n",
        "           ['Corn', 'Onion', 'Onion', 'Kidney Beans', 'Ice cream', 'Eggs']]\n",
        "\n",
        "te = TransactionEncoder()\n",
        "te_ary = te.fit(dataset).transform(dataset)\n",
        "df = pd.DataFrame(te_ary, columns=te.columns_)\n",
        "df"
      ],
      "execution_count": null,
      "outputs": [
        {
          "output_type": "execute_result",
          "data": {
            "text/html": [
              "<div>\n",
              "<style scoped>\n",
              "    .dataframe tbody tr th:only-of-type {\n",
              "        vertical-align: middle;\n",
              "    }\n",
              "\n",
              "    .dataframe tbody tr th {\n",
              "        vertical-align: top;\n",
              "    }\n",
              "\n",
              "    .dataframe thead th {\n",
              "        text-align: right;\n",
              "    }\n",
              "</style>\n",
              "<table border=\"1\" class=\"dataframe\">\n",
              "  <thead>\n",
              "    <tr style=\"text-align: right;\">\n",
              "      <th></th>\n",
              "      <th>Apple</th>\n",
              "      <th>Corn</th>\n",
              "      <th>Dill</th>\n",
              "      <th>Eggs</th>\n",
              "      <th>Ice cream</th>\n",
              "      <th>Kidney Beans</th>\n",
              "      <th>Milk</th>\n",
              "      <th>Nutmeg</th>\n",
              "      <th>Onion</th>\n",
              "      <th>Unicorn</th>\n",
              "      <th>Yogurt</th>\n",
              "    </tr>\n",
              "  </thead>\n",
              "  <tbody>\n",
              "    <tr>\n",
              "      <th>0</th>\n",
              "      <td>False</td>\n",
              "      <td>False</td>\n",
              "      <td>False</td>\n",
              "      <td>True</td>\n",
              "      <td>False</td>\n",
              "      <td>True</td>\n",
              "      <td>True</td>\n",
              "      <td>True</td>\n",
              "      <td>True</td>\n",
              "      <td>False</td>\n",
              "      <td>True</td>\n",
              "    </tr>\n",
              "    <tr>\n",
              "      <th>1</th>\n",
              "      <td>False</td>\n",
              "      <td>False</td>\n",
              "      <td>True</td>\n",
              "      <td>True</td>\n",
              "      <td>False</td>\n",
              "      <td>True</td>\n",
              "      <td>False</td>\n",
              "      <td>True</td>\n",
              "      <td>True</td>\n",
              "      <td>False</td>\n",
              "      <td>True</td>\n",
              "    </tr>\n",
              "    <tr>\n",
              "      <th>2</th>\n",
              "      <td>True</td>\n",
              "      <td>False</td>\n",
              "      <td>False</td>\n",
              "      <td>True</td>\n",
              "      <td>False</td>\n",
              "      <td>True</td>\n",
              "      <td>True</td>\n",
              "      <td>False</td>\n",
              "      <td>False</td>\n",
              "      <td>False</td>\n",
              "      <td>False</td>\n",
              "    </tr>\n",
              "    <tr>\n",
              "      <th>3</th>\n",
              "      <td>False</td>\n",
              "      <td>True</td>\n",
              "      <td>False</td>\n",
              "      <td>False</td>\n",
              "      <td>False</td>\n",
              "      <td>True</td>\n",
              "      <td>True</td>\n",
              "      <td>False</td>\n",
              "      <td>False</td>\n",
              "      <td>True</td>\n",
              "      <td>True</td>\n",
              "    </tr>\n",
              "    <tr>\n",
              "      <th>4</th>\n",
              "      <td>False</td>\n",
              "      <td>True</td>\n",
              "      <td>False</td>\n",
              "      <td>True</td>\n",
              "      <td>True</td>\n",
              "      <td>True</td>\n",
              "      <td>False</td>\n",
              "      <td>False</td>\n",
              "      <td>True</td>\n",
              "      <td>False</td>\n",
              "      <td>False</td>\n",
              "    </tr>\n",
              "  </tbody>\n",
              "</table>\n",
              "</div>"
            ],
            "text/plain": [
              "   Apple   Corn   Dill   Eggs  Ice cream  ...   Milk  Nutmeg  Onion  Unicorn  Yogurt\n",
              "0  False  False  False   True      False  ...   True    True   True    False    True\n",
              "1  False  False   True   True      False  ...  False    True   True    False    True\n",
              "2   True  False  False   True      False  ...   True   False  False    False   False\n",
              "3  False   True  False  False      False  ...   True   False  False     True    True\n",
              "4  False   True  False   True       True  ...  False   False   True    False   False\n",
              "\n",
              "[5 rows x 11 columns]"
            ]
          },
          "metadata": {
            "tags": []
          },
          "execution_count": 54
        }
      ]
    },
    {
      "cell_type": "code",
      "metadata": {
        "colab": {
          "base_uri": "https://localhost:8080/",
          "height": 373
        },
        "id": "xyYkq5FiS4ZH",
        "outputId": "3b2fc31e-2928-408f-d006-ee41870a56d1"
      },
      "source": [
        "frequent_itemsets = fpgrowth(df, min_support=0.6, use_colnames=True) # faster than apriori\n",
        "### alternatively:\n",
        "#frequent_itemsets = apriori(df, min_support=0.6, use_colnames=True)\n",
        "#frequent_itemsets = fpmax(df, min_support=0.6, use_colnames=True)\n",
        "\n",
        "frequent_itemsets"
      ],
      "execution_count": null,
      "outputs": [
        {
          "output_type": "execute_result",
          "data": {
            "text/html": [
              "<div>\n",
              "<style scoped>\n",
              "    .dataframe tbody tr th:only-of-type {\n",
              "        vertical-align: middle;\n",
              "    }\n",
              "\n",
              "    .dataframe tbody tr th {\n",
              "        vertical-align: top;\n",
              "    }\n",
              "\n",
              "    .dataframe thead th {\n",
              "        text-align: right;\n",
              "    }\n",
              "</style>\n",
              "<table border=\"1\" class=\"dataframe\">\n",
              "  <thead>\n",
              "    <tr style=\"text-align: right;\">\n",
              "      <th></th>\n",
              "      <th>support</th>\n",
              "      <th>itemsets</th>\n",
              "    </tr>\n",
              "  </thead>\n",
              "  <tbody>\n",
              "    <tr>\n",
              "      <th>0</th>\n",
              "      <td>1.0</td>\n",
              "      <td>(Kidney Beans)</td>\n",
              "    </tr>\n",
              "    <tr>\n",
              "      <th>1</th>\n",
              "      <td>0.8</td>\n",
              "      <td>(Eggs)</td>\n",
              "    </tr>\n",
              "    <tr>\n",
              "      <th>2</th>\n",
              "      <td>0.6</td>\n",
              "      <td>(Yogurt)</td>\n",
              "    </tr>\n",
              "    <tr>\n",
              "      <th>3</th>\n",
              "      <td>0.6</td>\n",
              "      <td>(Onion)</td>\n",
              "    </tr>\n",
              "    <tr>\n",
              "      <th>4</th>\n",
              "      <td>0.6</td>\n",
              "      <td>(Milk)</td>\n",
              "    </tr>\n",
              "    <tr>\n",
              "      <th>5</th>\n",
              "      <td>0.8</td>\n",
              "      <td>(Eggs, Kidney Beans)</td>\n",
              "    </tr>\n",
              "    <tr>\n",
              "      <th>6</th>\n",
              "      <td>0.6</td>\n",
              "      <td>(Kidney Beans, Yogurt)</td>\n",
              "    </tr>\n",
              "    <tr>\n",
              "      <th>7</th>\n",
              "      <td>0.6</td>\n",
              "      <td>(Eggs, Onion)</td>\n",
              "    </tr>\n",
              "    <tr>\n",
              "      <th>8</th>\n",
              "      <td>0.6</td>\n",
              "      <td>(Kidney Beans, Onion)</td>\n",
              "    </tr>\n",
              "    <tr>\n",
              "      <th>9</th>\n",
              "      <td>0.6</td>\n",
              "      <td>(Eggs, Kidney Beans, Onion)</td>\n",
              "    </tr>\n",
              "    <tr>\n",
              "      <th>10</th>\n",
              "      <td>0.6</td>\n",
              "      <td>(Milk, Kidney Beans)</td>\n",
              "    </tr>\n",
              "  </tbody>\n",
              "</table>\n",
              "</div>"
            ],
            "text/plain": [
              "    support                     itemsets\n",
              "0       1.0               (Kidney Beans)\n",
              "1       0.8                       (Eggs)\n",
              "2       0.6                     (Yogurt)\n",
              "3       0.6                      (Onion)\n",
              "4       0.6                       (Milk)\n",
              "5       0.8         (Eggs, Kidney Beans)\n",
              "6       0.6       (Kidney Beans, Yogurt)\n",
              "7       0.6                (Eggs, Onion)\n",
              "8       0.6        (Kidney Beans, Onion)\n",
              "9       0.6  (Eggs, Kidney Beans, Onion)\n",
              "10      0.6         (Milk, Kidney Beans)"
            ]
          },
          "metadata": {
            "tags": []
          },
          "execution_count": 55
        }
      ]
    },
    {
      "cell_type": "code",
      "metadata": {
        "colab": {
          "base_uri": "https://localhost:8080/",
          "height": 486
        },
        "id": "aoeCcMx-TTiC",
        "outputId": "4babcb0e-2841-4a73-f8ec-69cf3a5a46b8"
      },
      "source": [
        "# Rule gneration\n",
        "from mlxtend.frequent_patterns import association_rules\n",
        "\n",
        "association_rules(frequent_itemsets, metric=\"confidence\", min_threshold=0.7)"
      ],
      "execution_count": null,
      "outputs": [
        {
          "output_type": "execute_result",
          "data": {
            "text/html": [
              "<div>\n",
              "<style scoped>\n",
              "    .dataframe tbody tr th:only-of-type {\n",
              "        vertical-align: middle;\n",
              "    }\n",
              "\n",
              "    .dataframe tbody tr th {\n",
              "        vertical-align: top;\n",
              "    }\n",
              "\n",
              "    .dataframe thead th {\n",
              "        text-align: right;\n",
              "    }\n",
              "</style>\n",
              "<table border=\"1\" class=\"dataframe\">\n",
              "  <thead>\n",
              "    <tr style=\"text-align: right;\">\n",
              "      <th></th>\n",
              "      <th>antecedents</th>\n",
              "      <th>consequents</th>\n",
              "      <th>antecedent support</th>\n",
              "      <th>consequent support</th>\n",
              "      <th>support</th>\n",
              "      <th>confidence</th>\n",
              "      <th>lift</th>\n",
              "      <th>leverage</th>\n",
              "      <th>conviction</th>\n",
              "    </tr>\n",
              "  </thead>\n",
              "  <tbody>\n",
              "    <tr>\n",
              "      <th>0</th>\n",
              "      <td>(Eggs)</td>\n",
              "      <td>(Kidney Beans)</td>\n",
              "      <td>0.8</td>\n",
              "      <td>1.0</td>\n",
              "      <td>0.8</td>\n",
              "      <td>1.00</td>\n",
              "      <td>1.00</td>\n",
              "      <td>0.00</td>\n",
              "      <td>inf</td>\n",
              "    </tr>\n",
              "    <tr>\n",
              "      <th>1</th>\n",
              "      <td>(Kidney Beans)</td>\n",
              "      <td>(Eggs)</td>\n",
              "      <td>1.0</td>\n",
              "      <td>0.8</td>\n",
              "      <td>0.8</td>\n",
              "      <td>0.80</td>\n",
              "      <td>1.00</td>\n",
              "      <td>0.00</td>\n",
              "      <td>1.0</td>\n",
              "    </tr>\n",
              "    <tr>\n",
              "      <th>2</th>\n",
              "      <td>(Yogurt)</td>\n",
              "      <td>(Kidney Beans)</td>\n",
              "      <td>0.6</td>\n",
              "      <td>1.0</td>\n",
              "      <td>0.6</td>\n",
              "      <td>1.00</td>\n",
              "      <td>1.00</td>\n",
              "      <td>0.00</td>\n",
              "      <td>inf</td>\n",
              "    </tr>\n",
              "    <tr>\n",
              "      <th>3</th>\n",
              "      <td>(Eggs)</td>\n",
              "      <td>(Onion)</td>\n",
              "      <td>0.8</td>\n",
              "      <td>0.6</td>\n",
              "      <td>0.6</td>\n",
              "      <td>0.75</td>\n",
              "      <td>1.25</td>\n",
              "      <td>0.12</td>\n",
              "      <td>1.6</td>\n",
              "    </tr>\n",
              "    <tr>\n",
              "      <th>4</th>\n",
              "      <td>(Onion)</td>\n",
              "      <td>(Eggs)</td>\n",
              "      <td>0.6</td>\n",
              "      <td>0.8</td>\n",
              "      <td>0.6</td>\n",
              "      <td>1.00</td>\n",
              "      <td>1.25</td>\n",
              "      <td>0.12</td>\n",
              "      <td>inf</td>\n",
              "    </tr>\n",
              "    <tr>\n",
              "      <th>5</th>\n",
              "      <td>(Onion)</td>\n",
              "      <td>(Kidney Beans)</td>\n",
              "      <td>0.6</td>\n",
              "      <td>1.0</td>\n",
              "      <td>0.6</td>\n",
              "      <td>1.00</td>\n",
              "      <td>1.00</td>\n",
              "      <td>0.00</td>\n",
              "      <td>inf</td>\n",
              "    </tr>\n",
              "    <tr>\n",
              "      <th>6</th>\n",
              "      <td>(Eggs, Kidney Beans)</td>\n",
              "      <td>(Onion)</td>\n",
              "      <td>0.8</td>\n",
              "      <td>0.6</td>\n",
              "      <td>0.6</td>\n",
              "      <td>0.75</td>\n",
              "      <td>1.25</td>\n",
              "      <td>0.12</td>\n",
              "      <td>1.6</td>\n",
              "    </tr>\n",
              "    <tr>\n",
              "      <th>7</th>\n",
              "      <td>(Eggs, Onion)</td>\n",
              "      <td>(Kidney Beans)</td>\n",
              "      <td>0.6</td>\n",
              "      <td>1.0</td>\n",
              "      <td>0.6</td>\n",
              "      <td>1.00</td>\n",
              "      <td>1.00</td>\n",
              "      <td>0.00</td>\n",
              "      <td>inf</td>\n",
              "    </tr>\n",
              "    <tr>\n",
              "      <th>8</th>\n",
              "      <td>(Kidney Beans, Onion)</td>\n",
              "      <td>(Eggs)</td>\n",
              "      <td>0.6</td>\n",
              "      <td>0.8</td>\n",
              "      <td>0.6</td>\n",
              "      <td>1.00</td>\n",
              "      <td>1.25</td>\n",
              "      <td>0.12</td>\n",
              "      <td>inf</td>\n",
              "    </tr>\n",
              "    <tr>\n",
              "      <th>9</th>\n",
              "      <td>(Eggs)</td>\n",
              "      <td>(Kidney Beans, Onion)</td>\n",
              "      <td>0.8</td>\n",
              "      <td>0.6</td>\n",
              "      <td>0.6</td>\n",
              "      <td>0.75</td>\n",
              "      <td>1.25</td>\n",
              "      <td>0.12</td>\n",
              "      <td>1.6</td>\n",
              "    </tr>\n",
              "    <tr>\n",
              "      <th>10</th>\n",
              "      <td>(Onion)</td>\n",
              "      <td>(Eggs, Kidney Beans)</td>\n",
              "      <td>0.6</td>\n",
              "      <td>0.8</td>\n",
              "      <td>0.6</td>\n",
              "      <td>1.00</td>\n",
              "      <td>1.25</td>\n",
              "      <td>0.12</td>\n",
              "      <td>inf</td>\n",
              "    </tr>\n",
              "    <tr>\n",
              "      <th>11</th>\n",
              "      <td>(Milk)</td>\n",
              "      <td>(Kidney Beans)</td>\n",
              "      <td>0.6</td>\n",
              "      <td>1.0</td>\n",
              "      <td>0.6</td>\n",
              "      <td>1.00</td>\n",
              "      <td>1.00</td>\n",
              "      <td>0.00</td>\n",
              "      <td>inf</td>\n",
              "    </tr>\n",
              "  </tbody>\n",
              "</table>\n",
              "</div>"
            ],
            "text/plain": [
              "              antecedents            consequents  ...  leverage  conviction\n",
              "0                  (Eggs)         (Kidney Beans)  ...      0.00         inf\n",
              "1          (Kidney Beans)                 (Eggs)  ...      0.00         1.0\n",
              "2                (Yogurt)         (Kidney Beans)  ...      0.00         inf\n",
              "3                  (Eggs)                (Onion)  ...      0.12         1.6\n",
              "4                 (Onion)                 (Eggs)  ...      0.12         inf\n",
              "5                 (Onion)         (Kidney Beans)  ...      0.00         inf\n",
              "6    (Eggs, Kidney Beans)                (Onion)  ...      0.12         1.6\n",
              "7           (Eggs, Onion)         (Kidney Beans)  ...      0.00         inf\n",
              "8   (Kidney Beans, Onion)                 (Eggs)  ...      0.12         inf\n",
              "9                  (Eggs)  (Kidney Beans, Onion)  ...      0.12         1.6\n",
              "10                (Onion)   (Eggs, Kidney Beans)  ...      0.12         inf\n",
              "11                 (Milk)         (Kidney Beans)  ...      0.00         inf\n",
              "\n",
              "[12 rows x 9 columns]"
            ]
          },
          "metadata": {
            "tags": []
          },
          "execution_count": 56
        }
      ]
    },
    {
      "cell_type": "markdown",
      "metadata": {
        "id": "PbzSExK9Tr6k"
      },
      "source": [
        "\n",
        "- FP-Growth is an frequent pattern mining algorithm that does not require candidate generation. Internally, it uses a so-called FP-tree (frequent pattern tree) datastrucure without generating the candidate sets explicitely, which makes is particularly attractive for large datasets.\n",
        "\n",
        "- **Reference**\n",
        "Han, Jiawei, Jian Pei, Yiwen Yin, and Runying Mao. \"Mining frequent patterns without candidate generation. \"A frequent-pattern tree approach.\" Data mining and knowledge discovery 8, no. 1 (2004): 53-87.\n",
        "\n",
        "- More info: http://rasbt.github.io/mlxtend/user_guide/frequent_patterns/association_rules/#example-1-generating-association-rules-from-frequent-itemsets"
      ]
    },
    {
      "cell_type": "code",
      "metadata": {
        "id": "-_RfdXvETvnx"
      },
      "source": [
        ""
      ],
      "execution_count": null,
      "outputs": []
    }
  ]
}